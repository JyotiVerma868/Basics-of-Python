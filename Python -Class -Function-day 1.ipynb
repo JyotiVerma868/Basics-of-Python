{
 "cells": [
  {
   "cell_type": "markdown",
   "id": "4d3f897e",
   "metadata": {},
   "source": [
    "# Function"
   ]
  },
  {
   "cell_type": "code",
   "execution_count": 5,
   "id": "587b594c",
   "metadata": {},
   "outputs": [],
   "source": [
    "def test1():\n",
    "    print(4)"
   ]
  },
  {
   "cell_type": "code",
   "execution_count": 7,
   "id": "845cb95c",
   "metadata": {},
   "outputs": [
    {
     "name": "stdout",
     "output_type": "stream",
     "text": [
      "this is my first function in python\n"
     ]
    }
   ],
   "source": [
    "def test1():\n",
    "    print(\"this is my first function in python\")\n",
    "test1()"
   ]
  },
  {
   "cell_type": "code",
   "execution_count": 9,
   "id": "55eea984",
   "metadata": {},
   "outputs": [
    {
     "name": "stdout",
     "output_type": "stream",
     "text": [
      "this is my first function in python\n"
     ]
    }
   ],
   "source": [
    "test1()"
   ]
  },
  {
   "cell_type": "code",
   "execution_count": null,
   "id": "2e494a7c",
   "metadata": {},
   "outputs": [],
   "source": [
    "a= 1"
   ]
  },
  {
   "cell_type": "code",
   "execution_count": 10,
   "id": "486070f8",
   "metadata": {},
   "outputs": [
    {
     "name": "stdout",
     "output_type": "stream",
     "text": [
      "this is my first function in python\n"
     ]
    }
   ],
   "source": [
    "b = test1()  ## variable name is given"
   ]
  },
  {
   "cell_type": "code",
   "execution_count": 11,
   "id": "6f01d4cc",
   "metadata": {},
   "outputs": [],
   "source": [
    "b  ## calling b will not give you test1 () result"
   ]
  },
  {
   "cell_type": "code",
   "execution_count": 12,
   "id": "326c8934",
   "metadata": {},
   "outputs": [
    {
     "name": "stdout",
     "output_type": "stream",
     "text": [
      "None\n"
     ]
    }
   ],
   "source": [
    "print(b)"
   ]
  },
  {
   "cell_type": "code",
   "execution_count": 13,
   "id": "0feb74ca",
   "metadata": {},
   "outputs": [
    {
     "data": {
      "text/plain": [
       "NoneType"
      ]
     },
     "execution_count": 13,
     "metadata": {},
     "output_type": "execute_result"
    }
   ],
   "source": [
    "type(b)  ## type is none type bcz test1() is not defined"
   ]
  },
  {
   "cell_type": "code",
   "execution_count": 14,
   "id": "82005ddc",
   "metadata": {},
   "outputs": [],
   "source": [
    "def test2():\n",
    "    return(5)"
   ]
  },
  {
   "cell_type": "code",
   "execution_count": 15,
   "id": "45ac829f",
   "metadata": {},
   "outputs": [
    {
     "data": {
      "text/plain": [
       "5"
      ]
     },
     "execution_count": 15,
     "metadata": {},
     "output_type": "execute_result"
    }
   ],
   "source": [
    "test2()"
   ]
  },
  {
   "cell_type": "code",
   "execution_count": 18,
   "id": "724786c7",
   "metadata": {},
   "outputs": [
    {
     "data": {
      "text/plain": [
       "function"
      ]
     },
     "execution_count": 18,
     "metadata": {},
     "output_type": "execute_result"
    }
   ],
   "source": [
    "type(test2)"
   ]
  },
  {
   "cell_type": "code",
   "execution_count": 21,
   "id": "48c17fd2",
   "metadata": {},
   "outputs": [
    {
     "name": "stdout",
     "output_type": "stream",
     "text": [
      "this is my print return\n"
     ]
    }
   ],
   "source": [
    "def test3():\n",
    "    print(\"this is my print return\")\n",
    "test3()"
   ]
  },
  {
   "cell_type": "code",
   "execution_count": 19,
   "id": "87e155c3",
   "metadata": {},
   "outputs": [
    {
     "data": {
      "text/plain": [
       "function"
      ]
     },
     "execution_count": 19,
     "metadata": {},
     "output_type": "execute_result"
    }
   ],
   "source": [
    "type(test3)"
   ]
  },
  {
   "cell_type": "code",
   "execution_count": 22,
   "id": "d83ffccb",
   "metadata": {},
   "outputs": [
    {
     "name": "stdout",
     "output_type": "stream",
     "text": [
      "this is my print return\n"
     ]
    }
   ],
   "source": [
    "e = test3()"
   ]
  },
  {
   "cell_type": "code",
   "execution_count": 23,
   "id": "56f8d9bb",
   "metadata": {},
   "outputs": [
    {
     "ename": "TypeError",
     "evalue": "unsupported operand type(s) for +: 'NoneType' and 'str'",
     "output_type": "error",
     "traceback": [
      "\u001b[1;31m---------------------------------------------------------------------------\u001b[0m",
      "\u001b[1;31mTypeError\u001b[0m                                 Traceback (most recent call last)",
      "Input \u001b[1;32mIn [23]\u001b[0m, in \u001b[0;36m<cell line: 1>\u001b[1;34m()\u001b[0m\n\u001b[1;32m----> 1\u001b[0m \u001b[43me\u001b[49m\u001b[43m \u001b[49m\u001b[38;5;241;43m+\u001b[39;49m\u001b[43m \u001b[49m\u001b[38;5;124;43m\"\u001b[39;49m\u001b[38;5;124;43msudh\u001b[39;49m\u001b[38;5;124;43m\"\u001b[39;49m\n",
      "\u001b[1;31mTypeError\u001b[0m: unsupported operand type(s) for +: 'NoneType' and 'str'"
     ]
    }
   ],
   "source": [
    "e + \"sudh\""
   ]
  },
  {
   "cell_type": "markdown",
   "id": "a4937505",
   "metadata": {},
   "source": [
    "# because the vatiable are different str + none type"
   ]
  },
  {
   "cell_type": "code",
   "execution_count": 27,
   "id": "cad93848",
   "metadata": {},
   "outputs": [],
   "source": [
    "def test4():\n",
    "    return(\"jyoti\")\n",
    "\n",
    "p=test4()"
   ]
  },
  {
   "cell_type": "code",
   "execution_count": 28,
   "id": "48dfaf10",
   "metadata": {},
   "outputs": [
    {
     "data": {
      "text/plain": [
       "'jyoti'"
      ]
     },
     "execution_count": 28,
     "metadata": {},
     "output_type": "execute_result"
    }
   ],
   "source": [
    "test4()"
   ]
  },
  {
   "cell_type": "code",
   "execution_count": 26,
   "id": "1d127493",
   "metadata": {},
   "outputs": [
    {
     "data": {
      "text/plain": [
       "'jyotiverma'"
      ]
     },
     "execution_count": 26,
     "metadata": {},
     "output_type": "execute_result"
    }
   ],
   "source": [
    "p + \"verma\""
   ]
  },
  {
   "cell_type": "code",
   "execution_count": 29,
   "id": "ce94117c",
   "metadata": {},
   "outputs": [
    {
     "name": "stdout",
     "output_type": "stream",
     "text": [
      "this is my python code\n"
     ]
    }
   ],
   "source": [
    "def test5():\n",
    "    print(\"this is my python code\")\n",
    "test5()"
   ]
  },
  {
   "cell_type": "code",
   "execution_count": 33,
   "id": "c5b8cafd",
   "metadata": {},
   "outputs": [
    {
     "data": {
      "text/plain": [
       "(1, 3, [3, 4, 5, 'sudh'], (3, 4, 5, 6))"
      ]
     },
     "execution_count": 33,
     "metadata": {},
     "output_type": "execute_result"
    }
   ],
   "source": [
    "def test6():\n",
    "    return 1,3,[3,4,5,\"sudh\"],(3,4,5,6)\n",
    "test6()"
   ]
  },
  {
   "cell_type": "code",
   "execution_count": 35,
   "id": "7ed19b9d",
   "metadata": {},
   "outputs": [
    {
     "data": {
      "text/plain": [
       "tuple"
      ]
     },
     "execution_count": 35,
     "metadata": {},
     "output_type": "execute_result"
    }
   ],
   "source": [
    "type(test6())"
   ]
  },
  {
   "cell_type": "code",
   "execution_count": 36,
   "id": "c061b47c",
   "metadata": {},
   "outputs": [
    {
     "data": {
      "text/plain": [
       "3"
      ]
     },
     "execution_count": 36,
     "metadata": {},
     "output_type": "execute_result"
    }
   ],
   "source": [
    "test6()[1]"
   ]
  },
  {
   "cell_type": "code",
   "execution_count": 37,
   "id": "e3f0e8fb",
   "metadata": {},
   "outputs": [
    {
     "data": {
      "text/plain": [
       "(3, 4, 5, 6)"
      ]
     },
     "execution_count": 37,
     "metadata": {},
     "output_type": "execute_result"
    }
   ],
   "source": [
    "test6()[3]"
   ]
  },
  {
   "cell_type": "code",
   "execution_count": 38,
   "id": "933a038a",
   "metadata": {},
   "outputs": [
    {
     "data": {
      "text/plain": [
       "(1, 3, [3, 4, 5, 'sudh'], (3, 4, 5, 6))"
      ]
     },
     "execution_count": 38,
     "metadata": {},
     "output_type": "execute_result"
    }
   ],
   "source": [
    "def test7():\n",
    "    return 1,3,[3,4,5,\"sudh\"],(3,4,5,6)\n",
    "test7()"
   ]
  },
  {
   "cell_type": "code",
   "execution_count": 39,
   "id": "1f7764c3",
   "metadata": {},
   "outputs": [],
   "source": [
    "a,b,c,d = test7() ## declairing a variable "
   ]
  },
  {
   "cell_type": "code",
   "execution_count": 40,
   "id": "5d5d72a6",
   "metadata": {},
   "outputs": [
    {
     "data": {
      "text/plain": [
       "1"
      ]
     },
     "execution_count": 40,
     "metadata": {},
     "output_type": "execute_result"
    }
   ],
   "source": [
    "a"
   ]
  },
  {
   "cell_type": "code",
   "execution_count": 41,
   "id": "7253d2f3",
   "metadata": {},
   "outputs": [
    {
     "data": {
      "text/plain": [
       "3"
      ]
     },
     "execution_count": 41,
     "metadata": {},
     "output_type": "execute_result"
    }
   ],
   "source": [
    "b"
   ]
  },
  {
   "cell_type": "code",
   "execution_count": 42,
   "id": "9defd45f",
   "metadata": {},
   "outputs": [
    {
     "data": {
      "text/plain": [
       "[3, 4, 5, 'sudh']"
      ]
     },
     "execution_count": 42,
     "metadata": {},
     "output_type": "execute_result"
    }
   ],
   "source": [
    "c"
   ]
  },
  {
   "cell_type": "code",
   "execution_count": 43,
   "id": "be574e2f",
   "metadata": {},
   "outputs": [
    {
     "data": {
      "text/plain": [
       "(3, 4, 5, 6)"
      ]
     },
     "execution_count": 43,
     "metadata": {},
     "output_type": "execute_result"
    }
   ],
   "source": [
    "d"
   ]
  },
  {
   "cell_type": "code",
   "execution_count": 44,
   "id": "3039d995",
   "metadata": {},
   "outputs": [],
   "source": [
    "def test8():\n",
    "    a= 4*5+8\n",
    "    return a"
   ]
  },
  {
   "cell_type": "code",
   "execution_count": 45,
   "id": "2daa4b1a",
   "metadata": {},
   "outputs": [
    {
     "data": {
      "text/plain": [
       "28"
      ]
     },
     "execution_count": 45,
     "metadata": {},
     "output_type": "execute_result"
    }
   ],
   "source": [
    "test8()"
   ]
  },
  {
   "cell_type": "code",
   "execution_count": 46,
   "id": "2a069443",
   "metadata": {},
   "outputs": [
    {
     "data": {
      "text/plain": [
       "36"
      ]
     },
     "execution_count": 46,
     "metadata": {},
     "output_type": "execute_result"
    }
   ],
   "source": [
    "test8() + 8"
   ]
  },
  {
   "cell_type": "code",
   "execution_count": 47,
   "id": "ea8623ff",
   "metadata": {},
   "outputs": [
    {
     "data": {
      "text/plain": [
       "int"
      ]
     },
     "execution_count": 47,
     "metadata": {},
     "output_type": "execute_result"
    }
   ],
   "source": [
    "type(test8())"
   ]
  },
  {
   "cell_type": "code",
   "execution_count": 49,
   "id": "b9af6453",
   "metadata": {},
   "outputs": [
    {
     "name": "stdout",
     "output_type": "stream",
     "text": [
      "44\n"
     ]
    }
   ],
   "source": [
    "l = [2,3,4,5,6,7,8,9]\n",
    "\n",
    "a=0\n",
    "for i in l:\n",
    "    a = i + a\n",
    "print(a)"
   ]
  },
  {
   "cell_type": "code",
   "execution_count": 58,
   "id": "4c0080dc",
   "metadata": {},
   "outputs": [],
   "source": [
    "def test9():\n",
    "    l = [2,3,4,5,6,7,8,9]\n",
    "    a=0\n",
    "    for i in l:\n",
    "        if type(i) == int:\n",
    "            a = i + a\n",
    "    return a"
   ]
  },
  {
   "cell_type": "code",
   "execution_count": 53,
   "id": "6ed1134e",
   "metadata": {},
   "outputs": [
    {
     "data": {
      "text/plain": [
       "44"
      ]
     },
     "execution_count": 53,
     "metadata": {},
     "output_type": "execute_result"
    }
   ],
   "source": [
    "test9()"
   ]
  },
  {
   "cell_type": "code",
   "execution_count": 55,
   "id": "b4d68926",
   "metadata": {},
   "outputs": [
    {
     "data": {
      "text/plain": [
       "[4, 5, 6, 7, 7, 8, ' kumar', 4.56]"
      ]
     },
     "execution_count": 55,
     "metadata": {},
     "output_type": "execute_result"
    }
   ],
   "source": [
    "l1 = [4,5,6,7,7,8 ,\" kumar\",4.56]\n",
    "\n",
    "l1"
   ]
  },
  {
   "cell_type": "code",
   "execution_count": 59,
   "id": "5f305ef8",
   "metadata": {},
   "outputs": [],
   "source": [
    "def test10(l):\n",
    "    l = [2,3,4,5,6,7,8,9]\n",
    "    a=0\n",
    "    for i in l:\n",
    "        if type(i) == int:\n",
    "            a = i + a\n",
    "    return a"
   ]
  },
  {
   "cell_type": "code",
   "execution_count": 60,
   "id": "e71bd293",
   "metadata": {},
   "outputs": [
    {
     "data": {
      "text/plain": [
       "44"
      ]
     },
     "execution_count": 60,
     "metadata": {},
     "output_type": "execute_result"
    }
   ],
   "source": [
    "test10(l1)"
   ]
  },
  {
   "cell_type": "code",
   "execution_count": 61,
   "id": "8326593b",
   "metadata": {},
   "outputs": [],
   "source": [
    "def test11 (a,b):\n",
    "    return a+b"
   ]
  },
  {
   "cell_type": "code",
   "execution_count": 62,
   "id": "e3c894a1",
   "metadata": {},
   "outputs": [
    {
     "data": {
      "text/plain": [
       "'jyotiverma'"
      ]
     },
     "execution_count": 62,
     "metadata": {},
     "output_type": "execute_result"
    }
   ],
   "source": [
    "test11(\"jyoti\",\"verma\")"
   ]
  },
  {
   "cell_type": "code",
   "execution_count": 63,
   "id": "ed892cdf",
   "metadata": {},
   "outputs": [
    {
     "data": {
      "text/plain": [
       "46"
      ]
     },
     "execution_count": 63,
     "metadata": {},
     "output_type": "execute_result"
    }
   ],
   "source": [
    "test11(12,34)"
   ]
  },
  {
   "cell_type": "code",
   "execution_count": 64,
   "id": "c06a179c",
   "metadata": {},
   "outputs": [
    {
     "data": {
      "text/plain": [
       "[3, 4, 5, 6, 7, 8, 'sudh', 5, 6, 7, 'kumar', 'ineuron']"
      ]
     },
     "execution_count": 64,
     "metadata": {},
     "output_type": "execute_result"
    }
   ],
   "source": [
    "l = [3,4,5,6,7,8, \"sudh\", 5,6,7,\"kumar\", \"ineuron\"]\n",
    "\n",
    "l"
   ]
  },
  {
   "cell_type": "code",
   "execution_count": 72,
   "id": "b251ef61",
   "metadata": {},
   "outputs": [],
   "source": [
    "def test12(l):\n",
    "    l1 = []\n",
    "    for i in l:\n",
    "        if type(i)==str:\n",
    "            l1.append(i)\n",
    "    return l1"
   ]
  },
  {
   "cell_type": "code",
   "execution_count": 73,
   "id": "ad44337c",
   "metadata": {},
   "outputs": [
    {
     "data": {
      "text/plain": [
       "['sudh', 'kumar', 'ineuron']"
      ]
     },
     "execution_count": 73,
     "metadata": {},
     "output_type": "execute_result"
    }
   ],
   "source": [
    "test12(l)"
   ]
  },
  {
   "cell_type": "code",
   "execution_count": 74,
   "id": "a47efab3",
   "metadata": {},
   "outputs": [],
   "source": [
    "l2 = [\"anchal\", 5,6,7,\"kumar\", \"ineuron\"]\n"
   ]
  },
  {
   "cell_type": "code",
   "execution_count": 75,
   "id": "be07a217",
   "metadata": {},
   "outputs": [
    {
     "data": {
      "text/plain": [
       "['anchal', 5, 6, 7, 'kumar', 'ineuron']"
      ]
     },
     "execution_count": 75,
     "metadata": {},
     "output_type": "execute_result"
    }
   ],
   "source": [
    "l2"
   ]
  },
  {
   "cell_type": "code",
   "execution_count": 76,
   "id": "ed4e34c8",
   "metadata": {},
   "outputs": [
    {
     "data": {
      "text/plain": [
       "['anchal', 'kumar', 'ineuron']"
      ]
     },
     "execution_count": 76,
     "metadata": {},
     "output_type": "execute_result"
    }
   ],
   "source": [
    "test12(l2)"
   ]
  },
  {
   "cell_type": "markdown",
   "id": "9fb03e8a",
   "metadata": {},
   "source": [
    "# 1. write a function which will try to find out length of a string without using inbuilt len function\n",
    "## 2. write a function which will be able to print an index of list element without using an index function\n",
    "## 3. write a function which will be able to print an ip address of your system\n",
    "## 4. write a function which will shutdown your system\n",
    "## 5. write a function which will take a input as a list with any kind of numeric value and give an out as a \n",
    "#     multiplication of all the numeric data l = [3.5,6.56, \"sudh\", \"ineuron\" ,\"fsda boot camp 2.0\"]\n",
    "## 6. write a function which will be able to read all the mails\n",
    "## 7. write a function which will be able to send a mail to anyone\n",
    "## 8. write a function which will be able to read doc/word file from your system\n"
   ]
  },
  {
   "cell_type": "markdown",
   "id": "3b959cde",
   "metadata": {},
   "source": [
    "# Solutions"
   ]
  },
  {
   "cell_type": "markdown",
   "id": "3ea8744e",
   "metadata": {},
   "source": [
    "# 1. write a function which will try to find out length of a string without using inbuilt len function\n"
   ]
  },
  {
   "cell_type": "code",
   "execution_count": 77,
   "id": "74a3d078",
   "metadata": {},
   "outputs": [
    {
     "data": {
      "text/plain": [
       "5"
      ]
     },
     "execution_count": 77,
     "metadata": {},
     "output_type": "execute_result"
    }
   ],
   "source": [
    "def test(s):\n",
    "    count=0\n",
    "    for i in s:\n",
    "        if type (i) == str:\n",
    "            count = count + 1\n",
    "    return count\n",
    "\n",
    "test(\"jyoti\")"
   ]
  },
  {
   "cell_type": "markdown",
   "id": "f35ed3a4",
   "metadata": {},
   "source": [
    "# 2. write a function which will be able to print an index of list element without using an index function"
   ]
  },
  {
   "cell_type": "code",
   "execution_count": 78,
   "id": "c6d3ddac",
   "metadata": {},
   "outputs": [],
   "source": [
    "l = [1,2,3,4,\"jyoti\", \"verma\"]"
   ]
  },
  {
   "cell_type": "code",
   "execution_count": 79,
   "id": "02a6bcce",
   "metadata": {},
   "outputs": [],
   "source": [
    "def test1(li):\n",
    "    for i in range(0,len(li)):\n",
    "        print(li[i] ,\":\" , i)"
   ]
  },
  {
   "cell_type": "code",
   "execution_count": 81,
   "id": "e941990b",
   "metadata": {},
   "outputs": [
    {
     "name": "stdout",
     "output_type": "stream",
     "text": [
      "1 : 0\n",
      "2 : 1\n",
      "3 : 2\n",
      "4 : 3\n",
      "jyoti : 4\n",
      "verma : 5\n"
     ]
    }
   ],
   "source": [
    "test1(l)"
   ]
  },
  {
   "cell_type": "markdown",
   "id": "a27f49da",
   "metadata": {},
   "source": [
    "# 3. write a function which will be able to print an ip address of your system"
   ]
  },
  {
   "cell_type": "code",
   "execution_count": 82,
   "id": "af9bae9b",
   "metadata": {},
   "outputs": [
    {
     "data": {
      "text/plain": [
       "'192.168.29.119'"
      ]
     },
     "execution_count": 82,
     "metadata": {},
     "output_type": "execute_result"
    }
   ],
   "source": [
    "import socket \n",
    "socket.gethostbyname(socket.gethostname())"
   ]
  },
  {
   "cell_type": "code",
   "execution_count": 83,
   "id": "85f039cf",
   "metadata": {},
   "outputs": [
    {
     "data": {
      "text/plain": [
       "'192.168.29.119'"
      ]
     },
     "execution_count": 83,
     "metadata": {},
     "output_type": "execute_result"
    }
   ],
   "source": [
    "def test2():\n",
    "    ip = socket.gethostbyname(socket.gethostname())\n",
    "    return ip\n",
    "\n",
    "test2()"
   ]
  },
  {
   "cell_type": "markdown",
   "id": "083e6e2e",
   "metadata": {},
   "source": [
    "# 4. write a function which will shutdown your system"
   ]
  },
  {
   "cell_type": "code",
   "execution_count": null,
   "id": "cfde5659",
   "metadata": {},
   "outputs": [],
   "source": [
    "import os \n",
    "\n",
    "os.system()"
   ]
  },
  {
   "cell_type": "code",
   "execution_count": 84,
   "id": "5777f776",
   "metadata": {},
   "outputs": [],
   "source": [
    "#the meaning of /s - shutdown\n",
    "# the meaning of /r - restart\n",
    "# the meaning of /t1 - timer"
   ]
  },
  {
   "cell_type": "code",
   "execution_count": 85,
   "id": "0a2e8c39",
   "metadata": {},
   "outputs": [],
   "source": [
    "## command os.system (\"shutdown /r /t4 \") shutdown the system in 4 sec"
   ]
  },
  {
   "cell_type": "markdown",
   "id": "56afbbc6",
   "metadata": {},
   "source": [
    "# 5. write a function which will take a input as a list with any kind of numeric value and give an out as a multiplication of all the numeric data l = [3.5,6.56, \"sudh\", \"ineuron\" ,\"fsda boot camp 2.0\"]"
   ]
  },
  {
   "cell_type": "code",
   "execution_count": 87,
   "id": "ff669345",
   "metadata": {},
   "outputs": [],
   "source": [
    "l = [3.5,6.56, 4,5,\"sudh\", \"ineuron\" ,\"fsda boot camp 2.0\"]"
   ]
  },
  {
   "cell_type": "code",
   "execution_count": 88,
   "id": "9ba9b471",
   "metadata": {},
   "outputs": [
    {
     "data": {
      "text/plain": [
       "459.19999999999993"
      ]
     },
     "execution_count": 88,
     "metadata": {},
     "output_type": "execute_result"
    }
   ],
   "source": [
    "def test3(l):\n",
    "    mul = 1\n",
    "    for i in l: \n",
    "        if type(i) == int or type(i) == float :\n",
    "            mul = mul*i\n",
    "    return mul\n",
    "\n",
    "\n",
    "\n",
    "test3(l)"
   ]
  },
  {
   "cell_type": "markdown",
   "id": "61b928a5",
   "metadata": {},
   "source": [
    "# 6. write a function which will be able to read all the mails"
   ]
  },
  {
   "cell_type": "code",
   "execution_count": null,
   "id": "4867ee77",
   "metadata": {},
   "outputs": [],
   "source": [
    "#import smtplib\n",
    "#import time\n",
    "#import imaplib\n",
    "#import email\n",
    "ORG_EMAIL = \"@gmail.com\" \n",
    "FROM_EMAIL = 'sskumar9876@gmail.com'\n",
    "FROM_PWD = 'rlplfdcsoiqruagn'\n",
    "SMTP_SERVER = \"imap.gmail.com\" \n",
    "SMTP_PORT = 993\n",
    "imaplib._MAXLINE = 400000000\n",
    "\n",
    "#def read_email_from_gmail():\n",
    "  #  try:\n",
    "        mail = imaplib.IMAP4_SSL(SMTP_SERVER)\n",
    "        mail.login(FROM_EMAIL,FROM_PWD)\n",
    "        mail.select('inbox')\n",
    "\n",
    "        data = mail.search(None, 'ALL')\n",
    "        mail_ids = data[1]\n",
    "        id_list = mail_ids[0].split()   \n",
    "        first_email_id = int(id_list[0])\n",
    "        latest_email_id = int(id_list[-1])\n",
    "\n",
    "      #  for i in range(latest_email_id,first_email_id, -1):\n",
    "            data = mail.fetch(str(i), '(RFC822)' )\n",
    "            for response_part in data:\n",
    "                arr = response_part[0]\n",
    "                if isinstance(arr, tuple):\n",
    "                    msg = email.message_from_string(str(arr[1],'utf-8'))\n",
    "                    email_subject = msg['subject']\n",
    "                    email_from = msg['from']\n",
    "                    print('From : ' + email_from + '\\n')\n",
    "                    print('Subject : ' + email_subject + '\\n')\n",
    "\n",
    "    except Exception as e:\n",
    "        traceback.print_exc() \n",
    "        print(str(e))\n",
    "\n",
    "read_email_from_gmail()\n",
    "\n",
    "\n",
    "\n",
    "=====================\n",
    "\n",
    "import docx2txt\n",
    "!pip install docx2txt\n",
    "\n",
    "a = docx2txt.process('testword.docx')\n",
    "print(a)\n"
   ]
  },
  {
   "cell_type": "code",
   "execution_count": null,
   "id": "9f3804ed",
   "metadata": {},
   "outputs": [],
   "source": [
    "##Un comment all the code lines and you can run the code"
   ]
  },
  {
   "cell_type": "code",
   "execution_count": null,
   "id": "d7e2f405",
   "metadata": {},
   "outputs": [],
   "source": [
    "## when you will run the code you will be given error so \n",
    "# first you need to create app password in google account security section\n",
    "# you can craete any number of password\n",
    "# use google generated password inpassword section not your gamil account password.\n"
   ]
  },
  {
   "cell_type": "markdown",
   "id": "baf1e191",
   "metadata": {},
   "source": [
    "# 7. write a function which will be able to send a mail to anyone"
   ]
  },
  {
   "cell_type": "code",
   "execution_count": null,
   "id": "667c65e2",
   "metadata": {},
   "outputs": [],
   "source": [
    "import smtplib ,ssl   ## simple mail transfer protocol library \n"
   ]
  },
  {
   "cell_type": "code",
   "execution_count": null,
   "id": "355c9b30",
   "metadata": {},
   "outputs": [],
   "source": [
    "## import smtplib , ssl\n",
    "port = 465  # For SSL\n",
    "smtp_server = \"smtp.gmail.com\"\n",
    "sender_email = \"sskumar9876@gmail.com\"  # Enter your address\n",
    "receiver_email = \"sudhanshu@ineuron.ai\"  # Enter receiver address\n",
    "#password = 'rlplfdcsoiqruagn'\n",
    "password = 'fdafasfas'\n",
    "message = \"\"\"this is my message from python code \"\"\"\n",
    "\n",
    "context = ssl.create_default_context()\n",
    "with smtplib.SMTP_SSL(smtp_server, port, context=context) as server:\n",
    "    server.login(sender_email, password)\n",
    "    server.sendmail(sender_email, receiver_email, message)\n",
    "    \n",
    "    "
   ]
  },
  {
   "cell_type": "code",
   "execution_count": 91,
   "id": "cefe65bc",
   "metadata": {},
   "outputs": [],
   "source": [
    "## these kind of codes you can copy or search from google you dodnot need to learn these kind of codes\n",
    "\n",
    "## when you will run the code you will be given error so \n",
    "# first you need to create app password in google account security section\n",
    "# you can craete any number of password\n",
    "# use google generated password inpassword section not your gamil account password.\n"
   ]
  },
  {
   "cell_type": "markdown",
   "id": "c51056be",
   "metadata": {},
   "source": [
    "# 8. write a function which will be able to read doc/word file from your system"
   ]
  },
  {
   "cell_type": "code",
   "execution_count": null,
   "id": "a18eff78",
   "metadata": {},
   "outputs": [],
   "source": [
    "# import docx2txt if these libraries are not available in the system download by pip"
   ]
  },
  {
   "cell_type": "code",
   "execution_count": null,
   "id": "43375b77",
   "metadata": {},
   "outputs": [],
   "source": [
    "# a = doc2txt.process(\"testword.docx\")\n",
    "\n",
    "# print(a)"
   ]
  },
  {
   "cell_type": "code",
   "execution_count": null,
   "id": "7c70b17f",
   "metadata": {},
   "outputs": [],
   "source": [
    "# first create word doc file then upload the file in jupyter then run the above command. "
   ]
  },
  {
   "cell_type": "code",
   "execution_count": null,
   "id": "199f0559",
   "metadata": {},
   "outputs": [],
   "source": []
  }
 ],
 "metadata": {
  "kernelspec": {
   "display_name": "Python 3 (ipykernel)",
   "language": "python",
   "name": "python3"
  },
  "language_info": {
   "codemirror_mode": {
    "name": "ipython",
    "version": 3
   },
   "file_extension": ".py",
   "mimetype": "text/x-python",
   "name": "python",
   "nbconvert_exporter": "python",
   "pygments_lexer": "ipython3",
   "version": "3.9.12"
  }
 },
 "nbformat": 4,
 "nbformat_minor": 5
}
