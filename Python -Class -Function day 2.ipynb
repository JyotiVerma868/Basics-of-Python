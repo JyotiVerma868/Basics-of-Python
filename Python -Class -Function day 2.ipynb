{
 "cells": [
  {
   "cell_type": "code",
   "execution_count": 2,
   "id": "618e07fa",
   "metadata": {},
   "outputs": [
    {
     "data": {
      "text/plain": [
       "11"
      ]
     },
     "execution_count": 2,
     "metadata": {},
     "output_type": "execute_result"
    }
   ],
   "source": [
    "def test1():\n",
    "    a = 5+6\n",
    "    return a\n",
    "test1()"
   ]
  },
  {
   "cell_type": "code",
   "execution_count": 4,
   "id": "f166486a",
   "metadata": {},
   "outputs": [
    {
     "data": {
      "text/plain": [
       "11"
      ]
     },
     "execution_count": 4,
     "metadata": {},
     "output_type": "execute_result"
    }
   ],
   "source": [
    "def test2(a,b):\n",
    "    return a+b\n",
    "test2(5,6)"
   ]
  },
  {
   "cell_type": "code",
   "execution_count": 8,
   "id": "f3e40bdb",
   "metadata": {},
   "outputs": [
    {
     "data": {
      "text/plain": [
       "(1, 2, 3, 4, 'sudh')"
      ]
     },
     "execution_count": 8,
     "metadata": {},
     "output_type": "execute_result"
    }
   ],
   "source": [
    "def test3(*args):\n",
    "    return args\n",
    "\n",
    "test3(1,2,3,4,\"sudh\")"
   ]
  },
  {
   "cell_type": "code",
   "execution_count": 10,
   "id": "01a45fe6",
   "metadata": {},
   "outputs": [
    {
     "data": {
      "text/plain": [
       "tuple"
      ]
     },
     "execution_count": 10,
     "metadata": {},
     "output_type": "execute_result"
    }
   ],
   "source": [
    "type(test3((1,2,3,4,\"sudh\")))"
   ]
  },
  {
   "cell_type": "code",
   "execution_count": 11,
   "id": "e0537dd0",
   "metadata": {},
   "outputs": [
    {
     "name": "stdout",
     "output_type": "stream",
     "text": [
      "Enter the number of which the user wants to print the multiplication table: 2\n",
      "The Multiplication Table of:  2\n",
      "2 x 1 = 2\n",
      "2 x 2 = 4\n",
      "2 x 3 = 6\n",
      "2 x 4 = 8\n",
      "2 x 5 = 10\n",
      "2 x 6 = 12\n",
      "2 x 7 = 14\n",
      "2 x 8 = 16\n",
      "2 x 9 = 18\n",
      "2 x 10 = 20\n"
     ]
    }
   ],
   "source": [
    "number = int(input (\"Enter the number of which the user wants to print the multiplication table: \"))      \n",
    "# We are using \"for loop\" to iterate the multiplication 10 times       \n",
    "print (\"The Multiplication Table of: \", number)    \n",
    "for count in range(1, 11):      \n",
    "   print (number, 'x', count, '=', number * count)    "
   ]
  },
  {
   "cell_type": "code",
   "execution_count": 12,
   "id": "228b6add",
   "metadata": {},
   "outputs": [
    {
     "data": {
      "text/plain": [
       "([1, 2, 3, 4, 5], 'sudh', 'ineuron', (5+7j), (4, 5, 6))"
      ]
     },
     "execution_count": 12,
     "metadata": {},
     "output_type": "execute_result"
    }
   ],
   "source": [
    "test3([1,2,3,4,5],\"sudh\",\"ineuron\", 5+7j, (4,5,6))"
   ]
  },
  {
   "cell_type": "code",
   "execution_count": 14,
   "id": "6a2fc48d",
   "metadata": {},
   "outputs": [
    {
     "data": {
      "text/plain": [
       "['sudh', 'ineuron', (5+7j), (4, 5, 6), 3.56]"
      ]
     },
     "execution_count": 14,
     "metadata": {},
     "output_type": "execute_result"
    }
   ],
   "source": [
    "def test3(*args):\n",
    "    return list(args)\n",
    "\n",
    "test3 (\"sudh\",\"ineuron\", 5+7j, (4,5,6), 3.56)"
   ]
  },
  {
   "cell_type": "code",
   "execution_count": 15,
   "id": "25513e0b",
   "metadata": {},
   "outputs": [
    {
     "data": {
      "text/plain": [
       "[34, 56, 23, 87]"
      ]
     },
     "execution_count": 15,
     "metadata": {},
     "output_type": "execute_result"
    }
   ],
   "source": [
    "def test5(*args):\n",
    "    l = []\n",
    "    for i in args:\n",
    "        l.append(i)\n",
    "    return l\n",
    "\n",
    "test5(34,56,23,87)"
   ]
  },
  {
   "cell_type": "code",
   "execution_count": 17,
   "id": "e33b3d2f",
   "metadata": {},
   "outputs": [
    {
     "name": "stdout",
     "output_type": "stream",
     "text": [
      "5 x 1 = 5\n",
      "5 x 2 = 10\n",
      "5 x 3 = 15\n",
      "5 x 4 = 20\n",
      "5 x 5 = 25\n",
      "5 x 6 = 30\n",
      "5 x 7 = 35\n",
      "5 x 8 = 40\n",
      "5 x 9 = 45\n",
      "5 x 10 = 50\n"
     ]
    }
   ],
   "source": [
    "for i in range (1,11):\n",
    "    number = 5\n",
    "    print(number,\"x\",i,\"=\",number * i)"
   ]
  },
  {
   "cell_type": "code",
   "execution_count": 18,
   "id": "4d5c72af",
   "metadata": {},
   "outputs": [],
   "source": [
    "d2 = {\"key1\" : \"sudh\" , \"key2\" : [2,3,4,5]}"
   ]
  },
  {
   "cell_type": "code",
   "execution_count": 19,
   "id": "5046d9ce",
   "metadata": {},
   "outputs": [
    {
     "data": {
      "text/plain": [
       "{'key1': 'sudh', 'key2': [2, 3, 4, 5]}"
      ]
     },
     "execution_count": 19,
     "metadata": {},
     "output_type": "execute_result"
    }
   ],
   "source": [
    "d2"
   ]
  },
  {
   "cell_type": "code",
   "execution_count": 20,
   "id": "ddffea8f",
   "metadata": {},
   "outputs": [],
   "source": [
    "d3 = { 234324 : \"sudh\"}\n"
   ]
  },
  {
   "cell_type": "code",
   "execution_count": 26,
   "id": "ed3c8c14",
   "metadata": {},
   "outputs": [
    {
     "data": {
      "text/plain": [
       "{234324: 'sudh'}"
      ]
     },
     "execution_count": 26,
     "metadata": {},
     "output_type": "execute_result"
    }
   ],
   "source": [
    "d3"
   ]
  },
  {
   "cell_type": "code",
   "execution_count": 21,
   "id": "42218a86",
   "metadata": {},
   "outputs": [],
   "source": [
    "d4 = { \"$sudh\" : \"sudh\"}\n"
   ]
  },
  {
   "cell_type": "code",
   "execution_count": 27,
   "id": "df6f03f9",
   "metadata": {},
   "outputs": [
    {
     "data": {
      "text/plain": [
       "{'$sudh': 'sudh'}"
      ]
     },
     "execution_count": 27,
     "metadata": {},
     "output_type": "execute_result"
    }
   ],
   "source": [
    "d4"
   ]
  },
  {
   "cell_type": "code",
   "execution_count": 22,
   "id": "58debc13",
   "metadata": {},
   "outputs": [
    {
     "ename": "TypeError",
     "evalue": "unhashable type: 'list'",
     "output_type": "error",
     "traceback": [
      "\u001b[1;31m---------------------------------------------------------------------------\u001b[0m",
      "\u001b[1;31mTypeError\u001b[0m                                 Traceback (most recent call last)",
      "Input \u001b[1;32mIn [22]\u001b[0m, in \u001b[0;36m<cell line: 1>\u001b[1;34m()\u001b[0m\n\u001b[1;32m----> 1\u001b[0m d5 \u001b[38;5;241m=\u001b[39m {[\u001b[38;5;241m1\u001b[39m,\u001b[38;5;241m2\u001b[39m,\u001b[38;5;241m3\u001b[39m,\u001b[38;5;241m4\u001b[39m] : \u001b[38;5;124m\"\u001b[39m\u001b[38;5;124msudh\u001b[39m\u001b[38;5;124m\"\u001b[39m}\n",
      "\u001b[1;31mTypeError\u001b[0m: unhashable type: 'list'"
     ]
    }
   ],
   "source": [
    "d5 = {[1,2,3,4] : \"sudh\"}\n"
   ]
  },
  {
   "cell_type": "code",
   "execution_count": 23,
   "id": "5129cf51",
   "metadata": {},
   "outputs": [],
   "source": [
    "d6 = {(1,2,3,4,5) : \"sudh\"}\n"
   ]
  },
  {
   "cell_type": "code",
   "execution_count": 28,
   "id": "8af6e99d",
   "metadata": {},
   "outputs": [
    {
     "data": {
      "text/plain": [
       "{(1, 2, 3, 4, 5): 'sudh'}"
      ]
     },
     "execution_count": 28,
     "metadata": {},
     "output_type": "execute_result"
    }
   ],
   "source": [
    "d6"
   ]
  },
  {
   "cell_type": "code",
   "execution_count": 24,
   "id": "21b97472",
   "metadata": {},
   "outputs": [],
   "source": [
    "d7 = { \"name\" : \"sudhanshu\" , \"org\" : \"ineuron\" , \"mail id \" : \"sudhanshu@ineuron.ai\" , \"name\" : \"sudh\" , \"name1\" : \"sudh\"}\n"
   ]
  },
  {
   "cell_type": "code",
   "execution_count": 29,
   "id": "4f0f8dc2",
   "metadata": {},
   "outputs": [
    {
     "data": {
      "text/plain": [
       "{'name': 'sudh',\n",
       " 'org': 'ineuron',\n",
       " 'mail id ': 'sudhanshu@ineuron.ai',\n",
       " 'name1': 'sudh'}"
      ]
     },
     "execution_count": 29,
     "metadata": {},
     "output_type": "execute_result"
    }
   ],
   "source": [
    "d7"
   ]
  },
  {
   "cell_type": "code",
   "execution_count": 25,
   "id": "30ff8f62",
   "metadata": {},
   "outputs": [],
   "source": [
    "d8 = {\"name\": \"sudh\" , \"mentor\" : {\"fsds\": \"imran\" , \"fsda\":\"anand\" , \"bigdata\" : \"shashank\" }}\n"
   ]
  },
  {
   "cell_type": "code",
   "execution_count": 30,
   "id": "a2edd74c",
   "metadata": {},
   "outputs": [
    {
     "data": {
      "text/plain": [
       "{'name': 'sudh',\n",
       " 'mentor': {'fsds': 'imran', 'fsda': 'anand', 'bigdata': 'shashank'}}"
      ]
     },
     "execution_count": 30,
     "metadata": {},
     "output_type": "execute_result"
    }
   ],
   "source": [
    "d8"
   ]
  },
  {
   "cell_type": "code",
   "execution_count": 31,
   "id": "a2fb8b67",
   "metadata": {},
   "outputs": [
    {
     "data": {
      "text/plain": [
       "'shashank'"
      ]
     },
     "execution_count": 31,
     "metadata": {},
     "output_type": "execute_result"
    }
   ],
   "source": [
    "d8['mentor']['bigdata']"
   ]
  },
  {
   "cell_type": "code",
   "execution_count": 32,
   "id": "de626f88",
   "metadata": {},
   "outputs": [
    {
     "data": {
      "text/plain": [
       "['name', 'org', 'mail id ', 'name1']"
      ]
     },
     "execution_count": 32,
     "metadata": {},
     "output_type": "execute_result"
    }
   ],
   "source": [
    "list(d7.keys())"
   ]
  },
  {
   "cell_type": "code",
   "execution_count": 33,
   "id": "2c46eab3",
   "metadata": {},
   "outputs": [
    {
     "data": {
      "text/plain": [
       "dict_values(['sudh', 'ineuron', 'sudhanshu@ineuron.ai', 'sudh'])"
      ]
     },
     "execution_count": 33,
     "metadata": {},
     "output_type": "execute_result"
    }
   ],
   "source": [
    "d7.values()"
   ]
  },
  {
   "cell_type": "code",
   "execution_count": 34,
   "id": "fb212379",
   "metadata": {},
   "outputs": [
    {
     "data": {
      "text/plain": [
       "dict_items([('name', 'sudh'), ('org', 'ineuron'), ('mail id ', 'sudhanshu@ineuron.ai'), ('name1', 'sudh')])"
      ]
     },
     "execution_count": 34,
     "metadata": {},
     "output_type": "execute_result"
    }
   ],
   "source": [
    "d7.items()"
   ]
  },
  {
   "cell_type": "code",
   "execution_count": 36,
   "id": "b25cc517",
   "metadata": {},
   "outputs": [
    {
     "data": {
      "text/plain": [
       "['imran', 'anand', 'shashank']"
      ]
     },
     "execution_count": 36,
     "metadata": {},
     "output_type": "execute_result"
    }
   ],
   "source": [
    "list(d8['mentor'].values())"
   ]
  },
  {
   "cell_type": "code",
   "execution_count": 37,
   "id": "ee9625e1",
   "metadata": {},
   "outputs": [
    {
     "data": {
      "text/plain": [
       "[['imran', 'anand', 'shashank']]"
      ]
     },
     "execution_count": 37,
     "metadata": {},
     "output_type": "execute_result"
    }
   ],
   "source": [
    "l = []\n",
    "for i in d8.keys():\n",
    "    if type(d8[i])  == dict : \n",
    "        l.append(list(d8[i].values()))\n",
    "        \n",
    "l\n",
    "        "
   ]
  },
  {
   "cell_type": "code",
   "execution_count": 38,
   "id": "dc3d4449",
   "metadata": {},
   "outputs": [
    {
     "data": {
      "text/plain": [
       "{'name': 'sudh',\n",
       " 'mentor': {'fsds': 'imran', 'fsda': 'anand', 'bigdata': 'shashank'},\n",
       " 'mail_id': {'imran': 'imran@ineiuron.ai',\n",
       "  'anand': 'anand@ineuron.ai',\n",
       "  'shashank': 'shashank@ineuron.ai'}}"
      ]
     },
     "execution_count": 38,
     "metadata": {},
     "output_type": "execute_result"
    }
   ],
   "source": [
    "d9 = {'name': 'sudh','mentor': {'fsds': 'imran', 'fsda': 'anand', 'bigdata': 'shashank'} , \"mail_id\" : {\"imran\" : \"imran@ineiuron.ai\" , \"anand\" : \"anand@ineuron.ai\" , \"shashank\" : \"shashank@ineuron.ai\"}}\n",
    "d9"
   ]
  },
  {
   "cell_type": "code",
   "execution_count": 39,
   "id": "671eb577",
   "metadata": {},
   "outputs": [
    {
     "data": {
      "text/plain": [
       "[['imran', 'anand', 'shashank'],\n",
       " ['imran@ineiuron.ai', 'anand@ineuron.ai', 'shashank@ineuron.ai']]"
      ]
     },
     "execution_count": 39,
     "metadata": {},
     "output_type": "execute_result"
    }
   ],
   "source": [
    "l = []\n",
    "for i in d9.keys():\n",
    "    if type(d9[i])  == dict : \n",
    "        l.append(list(d9[i].values()))\n",
    "        \n",
    "l"
   ]
  },
  {
   "cell_type": "code",
   "execution_count": null,
   "id": "1cf6c4cb",
   "metadata": {},
   "outputs": [],
   "source": []
  }
 ],
 "metadata": {
  "kernelspec": {
   "display_name": "Python 3 (ipykernel)",
   "language": "python",
   "name": "python3"
  },
  "language_info": {
   "codemirror_mode": {
    "name": "ipython",
    "version": 3
   },
   "file_extension": ".py",
   "mimetype": "text/x-python",
   "name": "python",
   "nbconvert_exporter": "python",
   "pygments_lexer": "ipython3",
   "version": "3.9.12"
  }
 },
 "nbformat": 4,
 "nbformat_minor": 5
}
