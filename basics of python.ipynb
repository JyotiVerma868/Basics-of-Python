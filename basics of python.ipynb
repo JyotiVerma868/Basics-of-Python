{
 "cells": [
  {
   "cell_type": "code",
   "execution_count": 1,
   "id": "75eb9dbe",
   "metadata": {},
   "outputs": [],
   "source": [
    "import numpy as np\n",
    "import pandas as pd\n",
    "import matplotlib.pyplot as plt\n",
    "import seaborn as sns\n",
    "%matplotlib inline"
   ]
  },
  {
   "cell_type": "code",
   "execution_count": 2,
   "id": "e783beb3",
   "metadata": {},
   "outputs": [
    {
     "name": "stdout",
     "output_type": "stream",
     "text": [
      "            Item       Description  Retail_Price  Loyalty_Discount  CustomerID\n",
      "0     8619953091        Pillowcase         18.96              0.02   200000663\n",
      "1     2020397001  Men's Pajama Set         23.10              0.00   200000661\n",
      "2     4681342313            Sheets         29.90              0.10   200000662\n",
      "3     6697166886              Coat        159.80              0.07   100000007\n",
      "4     6697166886              Coat        159.80              0.06   400000180\n",
      "...          ...               ...           ...               ...         ...\n",
      "3450  4619440506            Shorts         69.75              0.10   200000662\n",
      "3451  5153370805            Shorts         43.96              0.02   100000854\n",
      "3452  3123824581        Sweatpants         43.89              0.06   200000793\n",
      "3453  9195451761        Hand Towel         51.66              0.07   200000263\n",
      "3454  6660530324         Washcloth         35.14              0.05   200000670\n",
      "\n",
      "[3455 rows x 5 columns]\n"
     ]
    }
   ],
   "source": [
    "Item = pd.read_csv(\"Item.csv\")\n",
    "print(Item)"
   ]
  },
  {
   "cell_type": "code",
   "execution_count": 3,
   "id": "acf2aa2b",
   "metadata": {},
   "outputs": [
    {
     "data": {
      "text/html": [
       "<div>\n",
       "<style scoped>\n",
       "    .dataframe tbody tr th:only-of-type {\n",
       "        vertical-align: middle;\n",
       "    }\n",
       "\n",
       "    .dataframe tbody tr th {\n",
       "        vertical-align: top;\n",
       "    }\n",
       "\n",
       "    .dataframe thead th {\n",
       "        text-align: right;\n",
       "    }\n",
       "</style>\n",
       "<table border=\"1\" class=\"dataframe\">\n",
       "  <thead>\n",
       "    <tr style=\"text-align: right;\">\n",
       "      <th></th>\n",
       "      <th>Item</th>\n",
       "      <th>Description</th>\n",
       "      <th>Retail_Price</th>\n",
       "      <th>Loyalty_Discount</th>\n",
       "      <th>CustomerID</th>\n",
       "    </tr>\n",
       "  </thead>\n",
       "  <tbody>\n",
       "    <tr>\n",
       "      <th>0</th>\n",
       "      <td>8619953091</td>\n",
       "      <td>Pillowcase</td>\n",
       "      <td>18.96</td>\n",
       "      <td>0.02</td>\n",
       "      <td>200000663</td>\n",
       "    </tr>\n",
       "    <tr>\n",
       "      <th>1</th>\n",
       "      <td>2020397001</td>\n",
       "      <td>Men's Pajama Set</td>\n",
       "      <td>23.10</td>\n",
       "      <td>0.00</td>\n",
       "      <td>200000661</td>\n",
       "    </tr>\n",
       "    <tr>\n",
       "      <th>2</th>\n",
       "      <td>4681342313</td>\n",
       "      <td>Sheets</td>\n",
       "      <td>29.90</td>\n",
       "      <td>0.10</td>\n",
       "      <td>200000662</td>\n",
       "    </tr>\n",
       "    <tr>\n",
       "      <th>3</th>\n",
       "      <td>6697166886</td>\n",
       "      <td>Coat</td>\n",
       "      <td>159.80</td>\n",
       "      <td>0.07</td>\n",
       "      <td>100000007</td>\n",
       "    </tr>\n",
       "    <tr>\n",
       "      <th>4</th>\n",
       "      <td>6697166886</td>\n",
       "      <td>Coat</td>\n",
       "      <td>159.80</td>\n",
       "      <td>0.06</td>\n",
       "      <td>400000180</td>\n",
       "    </tr>\n",
       "  </tbody>\n",
       "</table>\n",
       "</div>"
      ],
      "text/plain": [
       "         Item       Description  Retail_Price  Loyalty_Discount  CustomerID\n",
       "0  8619953091        Pillowcase         18.96              0.02   200000663\n",
       "1  2020397001  Men's Pajama Set         23.10              0.00   200000661\n",
       "2  4681342313            Sheets         29.90              0.10   200000662\n",
       "3  6697166886              Coat        159.80              0.07   100000007\n",
       "4  6697166886              Coat        159.80              0.06   400000180"
      ]
     },
     "execution_count": 3,
     "metadata": {},
     "output_type": "execute_result"
    }
   ],
   "source": [
    "Item.head()"
   ]
  },
  {
   "cell_type": "code",
   "execution_count": 4,
   "id": "74609718",
   "metadata": {},
   "outputs": [
    {
     "data": {
      "text/plain": [
       "<pandas.core.indexing._LocIndexer at 0x29bc3610a90>"
      ]
     },
     "execution_count": 4,
     "metadata": {},
     "output_type": "execute_result"
    }
   ],
   "source": [
    "Item.loc()"
   ]
  },
  {
   "cell_type": "code",
   "execution_count": 5,
   "id": "c46f32fc",
   "metadata": {},
   "outputs": [
    {
     "data": {
      "text/html": [
       "<div>\n",
       "<style scoped>\n",
       "    .dataframe tbody tr th:only-of-type {\n",
       "        vertical-align: middle;\n",
       "    }\n",
       "\n",
       "    .dataframe tbody tr th {\n",
       "        vertical-align: top;\n",
       "    }\n",
       "\n",
       "    .dataframe thead th {\n",
       "        text-align: right;\n",
       "    }\n",
       "</style>\n",
       "<table border=\"1\" class=\"dataframe\">\n",
       "  <thead>\n",
       "    <tr style=\"text-align: right;\">\n",
       "      <th></th>\n",
       "      <th>Item</th>\n",
       "      <th>Description</th>\n",
       "      <th>Retail_Price</th>\n",
       "      <th>Loyalty_Discount</th>\n",
       "      <th>CustomerID</th>\n",
       "    </tr>\n",
       "  </thead>\n",
       "  <tbody>\n",
       "    <tr>\n",
       "      <th>3450</th>\n",
       "      <td>4619440506</td>\n",
       "      <td>Shorts</td>\n",
       "      <td>69.75</td>\n",
       "      <td>0.10</td>\n",
       "      <td>200000662</td>\n",
       "    </tr>\n",
       "    <tr>\n",
       "      <th>3451</th>\n",
       "      <td>5153370805</td>\n",
       "      <td>Shorts</td>\n",
       "      <td>43.96</td>\n",
       "      <td>0.02</td>\n",
       "      <td>100000854</td>\n",
       "    </tr>\n",
       "    <tr>\n",
       "      <th>3452</th>\n",
       "      <td>3123824581</td>\n",
       "      <td>Sweatpants</td>\n",
       "      <td>43.89</td>\n",
       "      <td>0.06</td>\n",
       "      <td>200000793</td>\n",
       "    </tr>\n",
       "    <tr>\n",
       "      <th>3453</th>\n",
       "      <td>9195451761</td>\n",
       "      <td>Hand Towel</td>\n",
       "      <td>51.66</td>\n",
       "      <td>0.07</td>\n",
       "      <td>200000263</td>\n",
       "    </tr>\n",
       "    <tr>\n",
       "      <th>3454</th>\n",
       "      <td>6660530324</td>\n",
       "      <td>Washcloth</td>\n",
       "      <td>35.14</td>\n",
       "      <td>0.05</td>\n",
       "      <td>200000670</td>\n",
       "    </tr>\n",
       "  </tbody>\n",
       "</table>\n",
       "</div>"
      ],
      "text/plain": [
       "            Item Description  Retail_Price  Loyalty_Discount  CustomerID\n",
       "3450  4619440506      Shorts         69.75              0.10   200000662\n",
       "3451  5153370805      Shorts         43.96              0.02   100000854\n",
       "3452  3123824581  Sweatpants         43.89              0.06   200000793\n",
       "3453  9195451761  Hand Towel         51.66              0.07   200000263\n",
       "3454  6660530324   Washcloth         35.14              0.05   200000670"
      ]
     },
     "execution_count": 5,
     "metadata": {},
     "output_type": "execute_result"
    }
   ],
   "source": [
    "Item.tail()"
   ]
  },
  {
   "cell_type": "code",
   "execution_count": 6,
   "id": "4973006c",
   "metadata": {},
   "outputs": [
    {
     "data": {
      "text/plain": [
       "(3455, 5)"
      ]
     },
     "execution_count": 6,
     "metadata": {},
     "output_type": "execute_result"
    }
   ],
   "source": [
    "Item.shape"
   ]
  },
  {
   "cell_type": "code",
   "execution_count": 7,
   "id": "fb1d7513",
   "metadata": {},
   "outputs": [
    {
     "name": "stdout",
     "output_type": "stream",
     "text": [
      "<class 'pandas.core.frame.DataFrame'>\n",
      "RangeIndex: 3455 entries, 0 to 3454\n",
      "Data columns (total 5 columns):\n",
      " #   Column            Non-Null Count  Dtype  \n",
      "---  ------            --------------  -----  \n",
      " 0   Item              3455 non-null   int64  \n",
      " 1   Description       3455 non-null   object \n",
      " 2   Retail_Price      3455 non-null   float64\n",
      " 3   Loyalty_Discount  3455 non-null   float64\n",
      " 4   CustomerID        3455 non-null   int64  \n",
      "dtypes: float64(2), int64(2), object(1)\n",
      "memory usage: 135.1+ KB\n"
     ]
    }
   ],
   "source": [
    "Item.info()"
   ]
  },
  {
   "cell_type": "code",
   "execution_count": 8,
   "id": "1012ded8",
   "metadata": {},
   "outputs": [
    {
     "data": {
      "text/plain": [
       "Item                126\n",
       "Description          68\n",
       "Retail_Price        110\n",
       "Loyalty_Discount     11\n",
       "CustomerID          942\n",
       "dtype: int64"
      ]
     },
     "execution_count": 8,
     "metadata": {},
     "output_type": "execute_result"
    }
   ],
   "source": [
    "Item.nunique() ## dtype int64 means data is stored as integer 64 bytes in python"
   ]
  },
  {
   "cell_type": "code",
   "execution_count": 9,
   "id": "11f46aa6",
   "metadata": {},
   "outputs": [
    {
     "data": {
      "text/plain": [
       "Index(['Item', 'Description', 'Retail_Price', 'Loyalty_Discount',\n",
       "       'CustomerID'],\n",
       "      dtype='object')"
      ]
     },
     "execution_count": 9,
     "metadata": {},
     "output_type": "execute_result"
    }
   ],
   "source": [
    "Item.columns"
   ]
  },
  {
   "cell_type": "code",
   "execution_count": 10,
   "id": "3fd0b6c1",
   "metadata": {},
   "outputs": [
    {
     "data": {
      "text/plain": [
       "Item                0\n",
       "Description         0\n",
       "Retail_Price        0\n",
       "Loyalty_Discount    0\n",
       "CustomerID          0\n",
       "dtype: int64"
      ]
     },
     "execution_count": 10,
     "metadata": {},
     "output_type": "execute_result"
    }
   ],
   "source": [
    "Item.isnull().sum()"
   ]
  },
  {
   "cell_type": "code",
   "execution_count": 11,
   "id": "68e7c44a",
   "metadata": {},
   "outputs": [
    {
     "data": {
      "text/plain": [
       "Item                True\n",
       "Description         True\n",
       "Retail_Price        True\n",
       "Loyalty_Discount    True\n",
       "CustomerID          True\n",
       "dtype: bool"
      ]
     },
     "execution_count": 11,
     "metadata": {},
     "output_type": "execute_result"
    }
   ],
   "source": [
    "Item.notnull().min()"
   ]
  },
  {
   "cell_type": "code",
   "execution_count": 12,
   "id": "0c078a08",
   "metadata": {},
   "outputs": [
    {
     "data": {
      "text/html": [
       "<div>\n",
       "<style scoped>\n",
       "    .dataframe tbody tr th:only-of-type {\n",
       "        vertical-align: middle;\n",
       "    }\n",
       "\n",
       "    .dataframe tbody tr th {\n",
       "        vertical-align: top;\n",
       "    }\n",
       "\n",
       "    .dataframe thead th {\n",
       "        text-align: right;\n",
       "    }\n",
       "</style>\n",
       "<table border=\"1\" class=\"dataframe\">\n",
       "  <thead>\n",
       "    <tr style=\"text-align: right;\">\n",
       "      <th></th>\n",
       "      <th>Item</th>\n",
       "      <th>Retail_Price</th>\n",
       "      <th>Loyalty_Discount</th>\n",
       "      <th>CustomerID</th>\n",
       "    </tr>\n",
       "  </thead>\n",
       "  <tbody>\n",
       "    <tr>\n",
       "      <th>count</th>\n",
       "      <td>3.455000e+03</td>\n",
       "      <td>3455.000000</td>\n",
       "      <td>3455.000000</td>\n",
       "      <td>3.455000e+03</td>\n",
       "    </tr>\n",
       "    <tr>\n",
       "      <th>mean</th>\n",
       "      <td>5.276712e+09</td>\n",
       "      <td>58.526237</td>\n",
       "      <td>0.050457</td>\n",
       "      <td>1.797979e+08</td>\n",
       "    </tr>\n",
       "    <tr>\n",
       "      <th>std</th>\n",
       "      <td>2.600486e+09</td>\n",
       "      <td>34.464217</td>\n",
       "      <td>0.032215</td>\n",
       "      <td>9.563412e+07</td>\n",
       "    </tr>\n",
       "    <tr>\n",
       "      <th>min</th>\n",
       "      <td>1.039855e+09</td>\n",
       "      <td>5.600000</td>\n",
       "      <td>0.000000</td>\n",
       "      <td>1.000000e+08</td>\n",
       "    </tr>\n",
       "    <tr>\n",
       "      <th>25%</th>\n",
       "      <td>2.963301e+09</td>\n",
       "      <td>31.800000</td>\n",
       "      <td>0.020000</td>\n",
       "      <td>1.000003e+08</td>\n",
       "    </tr>\n",
       "    <tr>\n",
       "      <th>50%</th>\n",
       "      <td>5.145202e+09</td>\n",
       "      <td>51.660000</td>\n",
       "      <td>0.050000</td>\n",
       "      <td>1.000009e+08</td>\n",
       "    </tr>\n",
       "    <tr>\n",
       "      <th>75%</th>\n",
       "      <td>7.645689e+09</td>\n",
       "      <td>79.800000</td>\n",
       "      <td>0.080000</td>\n",
       "      <td>2.000009e+08</td>\n",
       "    </tr>\n",
       "    <tr>\n",
       "      <th>max</th>\n",
       "      <td>9.916068e+09</td>\n",
       "      <td>159.800000</td>\n",
       "      <td>0.100000</td>\n",
       "      <td>4.000009e+08</td>\n",
       "    </tr>\n",
       "  </tbody>\n",
       "</table>\n",
       "</div>"
      ],
      "text/plain": [
       "               Item  Retail_Price  Loyalty_Discount    CustomerID\n",
       "count  3.455000e+03   3455.000000       3455.000000  3.455000e+03\n",
       "mean   5.276712e+09     58.526237          0.050457  1.797979e+08\n",
       "std    2.600486e+09     34.464217          0.032215  9.563412e+07\n",
       "min    1.039855e+09      5.600000          0.000000  1.000000e+08\n",
       "25%    2.963301e+09     31.800000          0.020000  1.000003e+08\n",
       "50%    5.145202e+09     51.660000          0.050000  1.000009e+08\n",
       "75%    7.645689e+09     79.800000          0.080000  2.000009e+08\n",
       "max    9.916068e+09    159.800000          0.100000  4.000009e+08"
      ]
     },
     "execution_count": 12,
     "metadata": {},
     "output_type": "execute_result"
    }
   ],
   "source": [
    "Item.describe()"
   ]
  },
  {
   "cell_type": "code",
   "execution_count": 13,
   "id": "7a14e23b",
   "metadata": {},
   "outputs": [
    {
     "data": {
      "text/plain": [
       "<Figure size 1080x720 with 0 Axes>"
      ]
     },
     "execution_count": 13,
     "metadata": {},
     "output_type": "execute_result"
    },
    {
     "data": {
      "image/png": "[encoded data removed]",
      "text/plain": [
       "<Figure size 432x288 with 1 Axes>"
      ]
     },
     "metadata": {
      "needs_background": "light"
     },
     "output_type": "display_data"
    },
    {
     "data": {
      "text/plain": [
       "<Figure size 1080x720 with 0 Axes>"
      ]
     },
     "metadata": {},
     "output_type": "display_data"
    }
   ],
   "source": [
    "sns.heatmap(Item.isnull(),yticklabels= False, cbar = False, cmap='viridis')\n",
    "plt.figure(figsize = (15,10))"
   ]
  },
  {
   "cell_type": "code",
   "execution_count": 14,
   "id": "b273a867",
   "metadata": {},
   "outputs": [
    {
     "data": {
      "text/plain": [
       "<Figure size 1080x720 with 0 Axes>"
      ]
     },
     "execution_count": 14,
     "metadata": {},
     "output_type": "execute_result"
    },
    {
     "data": {
      "image/png": "[encoded data removed]",
      "text/plain": [
       "<Figure size 432x288 with 1 Axes>"
      ]
     },
     "metadata": {
      "needs_background": "light"
     },
     "output_type": "display_data"
    },
    {
     "data": {
      "text/plain": [
       "<Figure size 1080x720 with 0 Axes>"
      ]
     },
     "metadata": {},
     "output_type": "display_data"
    }
   ],
   "source": [
    "sns.heatmap(Item.notnull(),xticklabels= False, cbar = False, cmap='viridis')\n",
    "plt.figure(figsize = (15,10))"
   ]
  },
  {
   "cell_type": "code",
   "execution_count": 15,
   "id": "cb04ea7b",
   "metadata": {},
   "outputs": [
    {
     "data": {
      "text/plain": [
       "<AxesSubplot:>"
      ]
     },
     "execution_count": 15,
     "metadata": {},
     "output_type": "execute_result"
    },
    {
     "data": {
      "image/png": "[encoded data removed]",
      "text/plain": [
       "<Figure size 1296x648 with 1 Axes>"
      ]
     },
     "metadata": {
      "needs_background": "light"
     },
     "output_type": "display_data"
    }
   ],
   "source": [
    "Item.boxplot(figsize= (18,9))"
   ]
  },
  {
   "cell_type": "code",
   "execution_count": 16,
   "id": "279253bd",
   "metadata": {},
   "outputs": [
    {
     "name": "stdout",
     "output_type": "stream",
     "text": [
      "enter the date of birth in the format DD/MMM/YYYY:23/07/1994\n",
      "The user was born in the month of: 07/ in the year: 994 on date: 23\n"
     ]
    }
   ],
   "source": [
    "data = input(\"enter the date of birth in the format DD/MMM/YYYY:\")\n",
    "                                                    ##012345678910\n",
    "\n",
    "date = data[0:2]\n",
    "month = data[3:6] \n",
    "year = data[7:]\n",
    "\n",
    "print(f\"The user was born in the month of: {month} in the year: {year} on date: {date}\")\n"
   ]
  },
  {
   "cell_type": "markdown",
   "id": "0893030c",
   "metadata": {},
   "source": [
    "# palindrome\n",
    "\n",
    "data = input(\"input a string\")\n",
    "reverse = data[::-1]\n",
    "\n",
    "print(data , reverse)\n",
    "\n"
   ]
  },
  {
   "cell_type": "code",
   "execution_count": 17,
   "id": "d524c717",
   "metadata": {},
   "outputs": [
    {
     "name": "stdout",
     "output_type": "stream",
     "text": [
      "input a string: mum\n",
      "mum mum\n"
     ]
    }
   ],
   "source": [
    "data = input(\"input a string: \")\n",
    "reverse = data[::-1]\n",
    "\n",
    "print(data , reverse)"
   ]
  },
  {
   "cell_type": "code",
   "execution_count": 18,
   "id": "e1ad47d2",
   "metadata": {},
   "outputs": [
    {
     "name": "stdout",
     "output_type": "stream",
     "text": [
      "input a string: mum\n",
      "yes input string :mum is a palindrome\n"
     ]
    }
   ],
   "source": [
    "data = input(\"input a string: \")\n",
    "reverse = data[::-1]\n",
    "\n",
    "if data == reverse:\n",
    "    print(f\"yes input string :{data} is a palindrome\")\n",
    "else:\n",
    "     print(f\"no input string :{data} is Not a palindrome\")\n"
   ]
  },
  {
   "cell_type": "code",
   "execution_count": 19,
   "id": "186ad06b",
   "metadata": {},
   "outputs": [
    {
     "name": "stdout",
     "output_type": "stream",
     "text": [
      "input a string: dore\n",
      "no input string :dore is Not a palindrome\n"
     ]
    }
   ],
   "source": [
    "data = input (\"input a string: \")\n",
    "reverse = data[::-1]\n",
    "\n",
    "if data == reverse:\n",
    "    print(f\"yes input string :{data} is a palindrome\")\n",
    "else:\n",
    "     print(f\"no input string :{data} is Not a palindrome\")"
   ]
  },
  {
   "cell_type": "code",
   "execution_count": 20,
   "id": "ef1b9533",
   "metadata": {},
   "outputs": [
    {
     "name": "stdout",
     "output_type": "stream",
     "text": [
      "input a string: dad\n",
      "yes input string :dad is a palindrome\n"
     ]
    }
   ],
   "source": [
    "data = input (\"input a string: \")\n",
    "reverse = data[::-1]\n",
    "\n",
    "if data == reverse:\n",
    "    print(f\"yes input string :{data} is a palindrome\")\n",
    "else:\n",
    "     print(f\"no input string :{data} is Not a palindrome\")"
   ]
  },
  {
   "cell_type": "markdown",
   "id": "2727de50",
   "metadata": {},
   "source": [
    "# Mutablitity\n",
    "# mutable means which is subject to change which is changable \n",
    "# changes are not allowed in strings it can be done through concatination \n",
    "\n",
    "#replace s with f name==Sunny\n",
    "\n",
    "name = \"Sunny\"\n",
    "name[0]= \"F\"\n",
    "\n",
    "print(name)\n",
    "\n"
   ]
  },
  {
   "cell_type": "code",
   "execution_count": 22,
   "id": "82ff03f7",
   "metadata": {},
   "outputs": [
    {
     "ename": "TypeError",
     "evalue": "'str' object does not support item assignment",
     "output_type": "error",
     "traceback": [
      "\u001b[1;31m---------------------------------------------------------------------------\u001b[0m",
      "\u001b[1;31mTypeError\u001b[0m                                 Traceback (most recent call last)",
      "Input \u001b[1;32mIn [22]\u001b[0m, in \u001b[0;36m<cell line: 2>\u001b[1;34m()\u001b[0m\n\u001b[0;32m      1\u001b[0m name \u001b[38;5;241m=\u001b[39m \u001b[38;5;124m\"\u001b[39m\u001b[38;5;124mSunny\u001b[39m\u001b[38;5;124m\"\u001b[39m\n\u001b[1;32m----> 2\u001b[0m name[\u001b[38;5;241m0\u001b[39m]\u001b[38;5;241m=\u001b[39m \u001b[38;5;124m\"\u001b[39m\u001b[38;5;124mF\u001b[39m\u001b[38;5;124m\"\u001b[39m\n\u001b[0;32m      4\u001b[0m \u001b[38;5;28mprint\u001b[39m(name)\n",
      "\u001b[1;31mTypeError\u001b[0m: 'str' object does not support item assignment"
     ]
    }
   ],
   "source": [
    "name = \"Sunny\"\n",
    "name[0]= \"F\"\n",
    "\n",
    "print(name)"
   ]
  },
  {
   "cell_type": "markdown",
   "id": "7c226eb5",
   "metadata": {},
   "source": [
    "# concatination\n",
    "\n",
    "name = \"Sunny\"\n",
    "\"F\" + name[1:]"
   ]
  },
  {
   "cell_type": "code",
   "execution_count": 23,
   "id": "1632f52e",
   "metadata": {},
   "outputs": [
    {
     "data": {
      "text/plain": [
       "'Funny'"
      ]
     },
     "execution_count": 23,
     "metadata": {},
     "output_type": "execute_result"
    }
   ],
   "source": [
    "name = \"Sunny\"\n",
    "\"F\" + name[1:]"
   ]
  },
  {
   "cell_type": "markdown",
   "id": "4c8f2744",
   "metadata": {},
   "source": [
    "# replace \n",
    "\n",
    "name = \"Sunny\"\n",
    "name = name.replace('S','F')\n",
    "print(name)"
   ]
  },
  {
   "cell_type": "code",
   "execution_count": 24,
   "id": "bf5b51f3",
   "metadata": {},
   "outputs": [
    {
     "name": "stdout",
     "output_type": "stream",
     "text": [
      "Funny\n"
     ]
    }
   ],
   "source": [
    "\n",
    "name = \"Sunny\"\n",
    "name = name.replace('S','F')\n",
    "print(name)"
   ]
  },
  {
   "cell_type": "code",
   "execution_count": 25,
   "id": "ef4f1687",
   "metadata": {},
   "outputs": [
    {
     "name": "stdout",
     "output_type": "stream",
     "text": [
      "JYOTI VERMA\n"
     ]
    }
   ],
   "source": [
    "name = \"Jyoti VERMA\"\n",
    "\n",
    "name = name.replace('Jyoti', 'JYOTI')\n",
    "print(name)"
   ]
  },
  {
   "cell_type": "raw",
   "id": "7d80e397",
   "metadata": {},
   "source": [
    "# string indexing\n",
    "string slicing \n",
    "string skipping\n",
    "string reversal\n",
    "string replace method\n",
    "length of the string\n",
    "string is immutable bcz we cannot assign any value directly using indexing"
   ]
  },
  {
   "cell_type": "code",
   "execution_count": 26,
   "id": "484441c2",
   "metadata": {},
   "outputs": [
    {
     "data": {
      "text/plain": [
       "'V'"
      ]
     },
     "execution_count": 26,
     "metadata": {},
     "output_type": "execute_result"
    }
   ],
   "source": [
    "name = \"Jyoti Verma\"\n",
    "\n",
    "name[6]"
   ]
  },
  {
   "cell_type": "code",
   "execution_count": 27,
   "id": "410705c0",
   "metadata": {},
   "outputs": [
    {
     "data": {
      "text/plain": [
       "'Verma'"
      ]
     },
     "execution_count": 27,
     "metadata": {},
     "output_type": "execute_result"
    }
   ],
   "source": [
    "name = \"Jyoti Verma\"\n",
    "name[6:]"
   ]
  },
  {
   "cell_type": "code",
   "execution_count": 28,
   "id": "0e5eb658",
   "metadata": {},
   "outputs": [
    {
     "data": {
      "text/plain": [
       "'JoiVra'"
      ]
     },
     "execution_count": 28,
     "metadata": {},
     "output_type": "execute_result"
    }
   ],
   "source": [
    "name = \"Jyoti Verma\"\n",
    "name[::2]"
   ]
  },
  {
   "cell_type": "code",
   "execution_count": 29,
   "id": "474284d9",
   "metadata": {},
   "outputs": [
    {
     "data": {
      "text/plain": [
       "'amreV itoyJ'"
      ]
     },
     "execution_count": 29,
     "metadata": {},
     "output_type": "execute_result"
    }
   ],
   "source": [
    "name = \"Jyoti Verma\"\n",
    "name[::-1]"
   ]
  },
  {
   "cell_type": "code",
   "execution_count": 30,
   "id": "fd912421",
   "metadata": {},
   "outputs": [
    {
     "name": "stdout",
     "output_type": "stream",
     "text": [
      "JYOTI VERMA\n"
     ]
    }
   ],
   "source": [
    "name = \"Jyoti Verma\"\n",
    "\n",
    "name=name.replace('Jyoti Verma','JYOTI VERMA')\n",
    "print(name)"
   ]
  },
  {
   "cell_type": "code",
   "execution_count": 31,
   "id": "688f9c41",
   "metadata": {},
   "outputs": [
    {
     "data": {
      "text/plain": [
       "10"
      ]
     },
     "execution_count": 31,
     "metadata": {},
     "output_type": "execute_result"
    }
   ],
   "source": [
    "name = \"JYOTIVERMA\"\n",
    "len(name)"
   ]
  },
  {
   "cell_type": "code",
   "execution_count": 32,
   "id": "d958163b",
   "metadata": {},
   "outputs": [
    {
     "data": {
      "text/plain": [
       "'jyoti verma'"
      ]
     },
     "execution_count": 32,
     "metadata": {},
     "output_type": "execute_result"
    }
   ],
   "source": [
    "name= \"Jyoti Verma\"\n",
    "\n",
    "name.lower()"
   ]
  },
  {
   "cell_type": "code",
   "execution_count": 33,
   "id": "615a2c48",
   "metadata": {},
   "outputs": [
    {
     "data": {
      "text/plain": [
       "'JYOTI VERMA'"
      ]
     },
     "execution_count": 33,
     "metadata": {},
     "output_type": "execute_result"
    }
   ],
   "source": [
    "name.upper()"
   ]
  },
  {
   "cell_type": "code",
   "execution_count": 34,
   "id": "26bf6e80",
   "metadata": {},
   "outputs": [
    {
     "data": {
      "text/plain": [
       "'Jyoti Verma'"
      ]
     },
     "execution_count": 34,
     "metadata": {},
     "output_type": "execute_result"
    }
   ],
   "source": [
    "name.title()"
   ]
  },
  {
   "cell_type": "markdown",
   "id": "868e9747",
   "metadata": {},
   "source": [
    "# upper, lower, tittle, capitalize and swapcase cases"
   ]
  },
  {
   "cell_type": "code",
   "execution_count": 35,
   "id": "f7c13d26",
   "metadata": {},
   "outputs": [
    {
     "name": "stdout",
     "output_type": "stream",
     "text": [
      "Enter your Name: Jyoti verma\n",
      "Name in upper case :JYOTI VERMA\n",
      "Name in lower case :jyoti verma\n",
      "Name in title case :Jyoti Verma\n"
     ]
    }
   ],
   "source": [
    "name= input(\"Enter your Name: \")\n",
    "print(f\"Name in upper case :{name.upper()}\")\n",
    "print(f\"Name in lower case :{name.lower()}\")\n",
    "print(f\"Name in title case :{name.title()}\")"
   ]
  },
  {
   "cell_type": "code",
   "execution_count": 36,
   "id": "ef107479",
   "metadata": {},
   "outputs": [
    {
     "name": "stdout",
     "output_type": "stream",
     "text": [
      "Enter your Name: Jyoti verma\n",
      "Name in upper case :JYOTI VERMA\n",
      "Name in lower case :jyoti verma\n",
      "Name in title case :Jyoti Verma\n",
      "Name in capitalize case :Jyoti verma\n",
      "Name in swapcase case :jYOTI VERMA\n"
     ]
    }
   ],
   "source": [
    "name= input(\"Enter your Name: \")\n",
    "print(f\"Name in upper case :{name.upper()}\")\n",
    "print(f\"Name in lower case :{name.lower()}\")\n",
    "print(f\"Name in title case :{name.title()}\")\n",
    "print(f\"Name in capitalize case :{name.capitalize()}\")\n",
    "print(f\"Name in swapcase case :{name.swapcase()}\")\n",
    "\n"
   ]
  },
  {
   "cell_type": "markdown",
   "id": "030659b6",
   "metadata": {},
   "source": [
    "# Join Function"
   ]
  },
  {
   "cell_type": "code",
   "execution_count": 37,
   "id": "1106b346",
   "metadata": {},
   "outputs": [
    {
     "name": "stdout",
     "output_type": "stream",
     "text": [
      "Enter your Name: Jyoti verma\n"
     ]
    },
    {
     "data": {
      "text/plain": [
       "'J*y*o*t*i* *v*e*r*m*a'"
      ]
     },
     "execution_count": 37,
     "metadata": {},
     "output_type": "execute_result"
    }
   ],
   "source": [
    "name= input(\"Enter your Name: \")\n",
    "\"*\".join(name)"
   ]
  },
  {
   "cell_type": "code",
   "execution_count": 38,
   "id": "a592a50c",
   "metadata": {},
   "outputs": [
    {
     "data": {
      "text/plain": [
       "'A|n|c|h|a|l| |V|e|r|m|a'"
      ]
     },
     "execution_count": 38,
     "metadata": {},
     "output_type": "execute_result"
    }
   ],
   "source": [
    "name = \"Anchal Verma\"\n",
    "\"|\".join(name)"
   ]
  },
  {
   "cell_type": "code",
   "execution_count": 39,
   "id": "596513de",
   "metadata": {},
   "outputs": [
    {
     "data": {
      "text/plain": [
       "'amreV lahcnA'"
      ]
     },
     "execution_count": 39,
     "metadata": {},
     "output_type": "execute_result"
    }
   ],
   "source": [
    "name = \"Anchal Verma\"\n",
    "\"\".join(reversed(name))"
   ]
  },
  {
   "cell_type": "markdown",
   "id": "21ac384d",
   "metadata": {},
   "source": [
    "# we cannot use replace in join as in replace changes are made after word"
   ]
  },
  {
   "cell_type": "code",
   "execution_count": 40,
   "id": "61910c23",
   "metadata": {},
   "outputs": [
    {
     "data": {
      "text/plain": [
       "'Anchal,Verma'"
      ]
     },
     "execution_count": 40,
     "metadata": {},
     "output_type": "execute_result"
    }
   ],
   "source": [
    "name = \"Anchal Verma\"\n",
    "name.replace(\" \", \",\")"
   ]
  },
  {
   "cell_type": "markdown",
   "id": "0a086622",
   "metadata": {},
   "source": [
    "# to remove extra spaces"
   ]
  },
  {
   "cell_type": "code",
   "execution_count": 41,
   "id": "fc3d0c68",
   "metadata": {},
   "outputs": [
    {
     "data": {
      "text/plain": [
       "'Anchal Verma'"
      ]
     },
     "execution_count": 41,
     "metadata": {},
     "output_type": "execute_result"
    }
   ],
   "source": [
    "name = \"Anchal Verma    \"\n",
    "name.strip(\" \")"
   ]
  },
  {
   "cell_type": "code",
   "execution_count": 42,
   "id": "370854be",
   "metadata": {},
   "outputs": [
    {
     "data": {
      "text/plain": [
       "'    Anchal Verma'"
      ]
     },
     "execution_count": 42,
     "metadata": {},
     "output_type": "execute_result"
    }
   ],
   "source": [
    "name = \"    Anchal Verma    \"\n",
    "name.rstrip(\" \")"
   ]
  },
  {
   "cell_type": "code",
   "execution_count": 43,
   "id": "f7fc5490",
   "metadata": {},
   "outputs": [
    {
     "data": {
      "text/plain": [
       "'Anchal Verma    '"
      ]
     },
     "execution_count": 43,
     "metadata": {},
     "output_type": "execute_result"
    }
   ],
   "source": [
    "name = \"    Anchal Verma    \"\n",
    "name.lstrip(\" \")"
   ]
  },
  {
   "cell_type": "code",
   "execution_count": 44,
   "id": "385cf391",
   "metadata": {},
   "outputs": [],
   "source": [
    "## another example"
   ]
  },
  {
   "cell_type": "code",
   "execution_count": 45,
   "id": "7bca4584",
   "metadata": {},
   "outputs": [
    {
     "data": {
      "text/plain": [
       "'AnchalVerma'"
      ]
     },
     "execution_count": 45,
     "metadata": {},
     "output_type": "execute_result"
    }
   ],
   "source": [
    "name = \"    Anchal Verma    \"\n",
    "name.replace(\" \", \"\")"
   ]
  },
  {
   "cell_type": "code",
   "execution_count": 46,
   "id": "104b5d61",
   "metadata": {},
   "outputs": [],
   "source": [
    "## formatting"
   ]
  },
  {
   "cell_type": "code",
   "execution_count": 47,
   "id": "38e76a1e",
   "metadata": {},
   "outputs": [
    {
     "data": {
      "text/plain": [
       "'++++Anchal Verma++++'"
      ]
     },
     "execution_count": 47,
     "metadata": {},
     "output_type": "execute_result"
    }
   ],
   "source": [
    "name = \"Anchal Verma\"\n",
    "name.center(20,\"+\")"
   ]
  },
  {
   "cell_type": "code",
   "execution_count": 48,
   "id": "e4d1b4aa",
   "metadata": {},
   "outputs": [],
   "source": [
    "## Is upper, Is lower, Is space, Is title, "
   ]
  },
  {
   "cell_type": "code",
   "execution_count": 49,
   "id": "3c7ccbb8",
   "metadata": {},
   "outputs": [
    {
     "data": {
      "text/plain": [
       "False"
      ]
     },
     "execution_count": 49,
     "metadata": {},
     "output_type": "execute_result"
    }
   ],
   "source": [
    "name = \"Anchal Verma\"\n",
    "name.islower()"
   ]
  },
  {
   "cell_type": "code",
   "execution_count": 50,
   "id": "761d9363",
   "metadata": {},
   "outputs": [
    {
     "data": {
      "text/plain": [
       "False"
      ]
     },
     "execution_count": 50,
     "metadata": {},
     "output_type": "execute_result"
    }
   ],
   "source": [
    "name = \"Anchal Verma\"\n",
    "name.isupper()"
   ]
  },
  {
   "cell_type": "code",
   "execution_count": 51,
   "id": "17e18fe0",
   "metadata": {},
   "outputs": [
    {
     "data": {
      "text/plain": [
       "False"
      ]
     },
     "execution_count": 51,
     "metadata": {},
     "output_type": "execute_result"
    }
   ],
   "source": [
    "name = \"Anchal Verma\"\n",
    "name.isspace()"
   ]
  },
  {
   "cell_type": "code",
   "execution_count": 52,
   "id": "6bbb5125",
   "metadata": {},
   "outputs": [
    {
     "data": {
      "text/plain": [
       "True"
      ]
     },
     "execution_count": 52,
     "metadata": {},
     "output_type": "execute_result"
    }
   ],
   "source": [
    "name = \"Anchal Verma\"\n",
    "name.istitle()"
   ]
  },
  {
   "cell_type": "code",
   "execution_count": 53,
   "id": "89e402b5",
   "metadata": {},
   "outputs": [
    {
     "name": "stdout",
     "output_type": "stream",
     "text": [
      "Enter your Name: Jyoti verma\n",
      "user input: Jyoti verma\n",
      "Wrong input we need to autocorrect it\n",
      "Correct output: Jyoti Verma\n"
     ]
    }
   ],
   "source": [
    "name = input(\"Enter your Name: \")\n",
    "\n",
    "print(f\"user input: {name}\")\n",
    "\n",
    "if name.istitle():\n",
    "    print(f\"user has given correct input\")\n",
    "else:\n",
    "    print(f\"Wrong input we need to autocorrect it\")\n",
    "    name = name.title()\n",
    "    print(f\"Correct output: {name}\")\n",
    "        \n",
    "        "
   ]
  },
  {
   "cell_type": "code",
   "execution_count": 54,
   "id": "ff5575c3",
   "metadata": {},
   "outputs": [
    {
     "name": "stdout",
     "output_type": "stream",
     "text": [
      "Enter your Name: Jyoti verma\n",
      "user input: Jyoti verma\n",
      "Wrong input we need to autocorrect it\n",
      "Correct output: Jyoti Verma\n"
     ]
    }
   ],
   "source": [
    "name = input(\"Enter your Name: \")\n",
    "\n",
    "print(f\"user input: {name}\")\n",
    "\n",
    "if name.istitle():\n",
    "    print(f\"user has given correct input\")\n",
    "elif name.isspace():\n",
    "    print(f\"wrong input please try again!\")\n",
    "else:\n",
    "    print(f\"Wrong input we need to autocorrect it\")\n",
    "    name = name.title()\n",
    "    print(f\"Correct output: {name}\")"
   ]
  },
  {
   "cell_type": "code",
   "execution_count": 55,
   "id": "a5d6fa40",
   "metadata": {},
   "outputs": [
    {
     "name": "stdout",
     "output_type": "stream",
     "text": [
      "Enter your Name: Jyoti verma\n",
      "user input: Jyoti verma\n",
      "Wrong input we need to autocorrect it\n",
      "Correct output: Jyoti Verma\n"
     ]
    }
   ],
   "source": [
    "name = input(\"Enter your Name: \")\n",
    "\n",
    "print(f\"user input: {name}\")\n",
    "\n",
    "if name.istitle():\n",
    "    print(f\"user has given correct input\")\n",
    "elif name.isspace():\n",
    "    print(f\"wrong input please try again!\")\n",
    "else:\n",
    "    print(f\"Wrong input we need to autocorrect it\")\n",
    "    name = name.title()\n",
    "    print(f\"Correct output: {name}\")"
   ]
  },
  {
   "cell_type": "code",
   "execution_count": 56,
   "id": "69433384",
   "metadata": {},
   "outputs": [
    {
     "data": {
      "text/plain": [
       "True"
      ]
     },
     "execution_count": 56,
     "metadata": {},
     "output_type": "execute_result"
    }
   ],
   "source": [
    "phone_number = \"9887676755\"\n",
    "phone_number.isdigit()"
   ]
  },
  {
   "cell_type": "code",
   "execution_count": 57,
   "id": "4efd580e",
   "metadata": {},
   "outputs": [
    {
     "data": {
      "text/plain": [
       "False"
      ]
     },
     "execution_count": 57,
     "metadata": {},
     "output_type": "execute_result"
    }
   ],
   "source": [
    "phone_number = \"98876767fshfgy\"\n",
    "phone_number.isdigit()"
   ]
  },
  {
   "cell_type": "code",
   "execution_count": 58,
   "id": "e4237ab9",
   "metadata": {},
   "outputs": [
    {
     "name": "stdout",
     "output_type": "stream",
     "text": [
      "Enter your number: 877676735245\n",
      "invalid input\n"
     ]
    }
   ],
   "source": [
    "phone_number = input(f\"Enter your number: \")\n",
    "\n",
    "if phone_number.isdigit() and len(phone_number) == 10:\n",
    "    print(f\"user input is correct\")\n",
    "else:\n",
    "    print(f\"invalid input\")\n",
    "    "
   ]
  },
  {
   "cell_type": "code",
   "execution_count": 59,
   "id": "7c2e955b",
   "metadata": {},
   "outputs": [
    {
     "name": "stdout",
     "output_type": "stream",
     "text": [
      "Enter your number: 9773809762\n",
      "user input is correct\n"
     ]
    }
   ],
   "source": [
    "phone_number = input(f\"Enter your number: \")\n",
    "\n",
    "if phone_number.isdigit() and len(phone_number) == 10:\n",
    "    print(f\"user input is correct\")\n",
    "else:\n",
    "    print(f\"invalid input\")"
   ]
  },
  {
   "cell_type": "code",
   "execution_count": 60,
   "id": "f5c2ac42",
   "metadata": {},
   "outputs": [
    {
     "name": "stdout",
     "output_type": "stream",
     "text": [
      "Enter your number: 8876565432\n",
      "user input is correct\n"
     ]
    }
   ],
   "source": [
    "phone_number = input(f\"Enter your number: \")\n",
    "\n",
    "if phone_number.isdigit() and len(phone_number) == 10:\n",
    "    print(f\"user input is correct\")\n",
    "else:\n",
    "    print(f\"invalid input\")"
   ]
  },
  {
   "cell_type": "code",
   "execution_count": 61,
   "id": "1a19c360",
   "metadata": {},
   "outputs": [
    {
     "name": "stdout",
     "output_type": "stream",
     "text": [
      "Enter your number: 75626357124\n",
      "invalid input\n"
     ]
    }
   ],
   "source": [
    "phone_number = input(f\"Enter your number: \")\n",
    "\n",
    "if phone_number.isdigit() and len(phone_number) == 10 and phone_number!= \"0000000000\":\n",
    "    print(f\"user input is correct\")\n",
    "else:\n",
    "    print(f\"invalid input\")"
   ]
  },
  {
   "cell_type": "code",
   "execution_count": 62,
   "id": "e83cb1bc",
   "metadata": {},
   "outputs": [
    {
     "data": {
      "text/plain": [
       "True"
      ]
     },
     "execution_count": 62,
     "metadata": {},
     "output_type": "execute_result"
    }
   ],
   "source": [
    "phone_number = \"0000000000\"\n",
    "phone_number.startswith(\"0\")"
   ]
  },
  {
   "cell_type": "code",
   "execution_count": 63,
   "id": "e542b9ba",
   "metadata": {},
   "outputs": [
    {
     "data": {
      "text/plain": [
       "True"
      ]
     },
     "execution_count": 63,
     "metadata": {},
     "output_type": "execute_result"
    }
   ],
   "source": [
    "phone_number = \"0000000000\"\n",
    "phone_number.endswith(\"0\")"
   ]
  },
  {
   "cell_type": "code",
   "execution_count": 64,
   "id": "376d9798",
   "metadata": {},
   "outputs": [
    {
     "data": {
      "text/plain": [
       "True"
      ]
     },
     "execution_count": 64,
     "metadata": {},
     "output_type": "execute_result"
    }
   ],
   "source": [
    "phone_number = \"+919773870799\"\n",
    "phone_number.startswith(\"+91\")"
   ]
  },
  {
   "cell_type": "code",
   "execution_count": 65,
   "id": "b60274cd",
   "metadata": {},
   "outputs": [
    {
     "data": {
      "text/plain": [
       "True"
      ]
     },
     "execution_count": 65,
     "metadata": {},
     "output_type": "execute_result"
    }
   ],
   "source": [
    "phone_number[1:].isdigit()"
   ]
  },
  {
   "cell_type": "code",
   "execution_count": 66,
   "id": "c75cba62",
   "metadata": {},
   "outputs": [
    {
     "data": {
      "text/plain": [
       "13"
      ]
     },
     "execution_count": 66,
     "metadata": {},
     "output_type": "execute_result"
    }
   ],
   "source": [
    "len(phone_number)"
   ]
  },
  {
   "cell_type": "code",
   "execution_count": 67,
   "id": "6d6e7f1f",
   "metadata": {},
   "outputs": [
    {
     "name": "stdout",
     "output_type": "stream",
     "text": [
      "Enter your India Phone Number: 97735614515\n",
      "Invalid input\n"
     ]
    }
   ],
   "source": [
    "phone_number = input(f\"Enter your India Phone Number: \")\n",
    "\n",
    "if phone_number.startswith(\"+91\") and phone_number[1:].isdigit() and len(phone_number) == \"13\":\n",
    "    print(f\"User input is correct\")\n",
    "    \n",
    "else:\n",
    "      print(f\"Invalid input\")"
   ]
  },
  {
   "cell_type": "markdown",
   "id": "f0e7d263",
   "metadata": {},
   "source": [
    "# if elif and else condition"
   ]
  },
  {
   "cell_type": "code",
   "execution_count": 68,
   "id": "529e86cc",
   "metadata": {},
   "outputs": [
    {
     "name": "stdout",
     "output_type": "stream",
     "text": [
      "Cart Total : 1290\n",
      "Pay Amount : 903.0\n"
     ]
    }
   ],
   "source": [
    "total_amount = 100 + 90 + 100 + 1000\n",
    "print(f\"Cart Total : {total_amount}\")\n",
    "\n",
    "if total_amount > 999:\n",
    "    price_after_discount = total_amount * 70/100\n",
    "    print(f\"Pay Amount : {price_after_discount}\")\n",
    "elif total_amount <= 999 and total_amount >= 499:\n",
    "    price_after_discount = total_amount * 80/100\n",
    "    print(f\"Pay Amount : {price_after_discount}\")\n",
    "else:\n",
    "    print(f\"Pay Amount : {total_amount}\")\n"
   ]
  },
  {
   "cell_type": "code",
   "execution_count": 69,
   "id": "dd7ee7ee",
   "metadata": {},
   "outputs": [
    {
     "name": "stdout",
     "output_type": "stream",
     "text": [
      "Cart Total : 290\n",
      "Pay Amount : 290\n"
     ]
    }
   ],
   "source": [
    "total_amount = 100 + 90 + 100 \n",
    "print(f\"Cart Total : {total_amount}\")\n",
    "\n",
    "if total_amount > 999:\n",
    "    price_after_discount = total_amount * 70/100\n",
    "    print(f\"Pay Amount : {price_after_discount}\")\n",
    "elif total_amount <= 999 and total_amount >= 499:\n",
    "    price_after_discount = total_amount * 80/100\n",
    "    print(f\"Pay Amount : {price_after_discount}\")\n",
    "else:\n",
    "    print(f\"Pay Amount : {total_amount}\")"
   ]
  },
  {
   "cell_type": "code",
   "execution_count": 70,
   "id": "3cc8d293",
   "metadata": {},
   "outputs": [
    {
     "name": "stdout",
     "output_type": "stream",
     "text": [
      "Cart Total : 690\n",
      "Pay Amount : 552.0\n"
     ]
    }
   ],
   "source": [
    "total_amount = 100 + 90 + 500\n",
    "print(f\"Cart Total : {total_amount}\")\n",
    "\n",
    "if total_amount > 999:\n",
    "    price_after_discount = total_amount * 70/100\n",
    "    print(f\"Pay Amount : {price_after_discount}\")\n",
    "elif total_amount <= 999 and total_amount >= 499:\n",
    "    price_after_discount = total_amount * 80/100\n",
    "    print(f\"Pay Amount : {price_after_discount}\")\n",
    "else:\n",
    "    print(f\"Pay Amount : {total_amount}\")"
   ]
  },
  {
   "cell_type": "code",
   "execution_count": 71,
   "id": "a7a2cd88",
   "metadata": {},
   "outputs": [
    {
     "name": "stdout",
     "output_type": "stream",
     "text": [
      "Cart Total : 1290\n",
      "Pay Amount : 903.0\n"
     ]
    }
   ],
   "source": [
    "total_amount = 100 + 90 + 100 + 1000\n",
    "print(f\"Cart Total : {total_amount}\")\n",
    "\n",
    "if total_amount > 1499:\n",
    "    price_after_discount = total_amount * 60/100\n",
    "    print(f\"Pay Amount : {price_after_discount}\")\n",
    "elif total_amount <= 1499 and total_amount >= 999:\n",
    "    price_after_discount = total_amount * 70/100\n",
    "    print(f\"Pay Amount : {price_after_discount}\")\n",
    "elif total_amount <= 999 and total_amount >= 499:\n",
    "    price_after_discount = total_amount * 80/100\n",
    "    print(f\"Pay Amount : {price_after_discount}\")\n",
    "else:\n",
    "    print(f\"Pay Amount : {total_amount}\")"
   ]
  },
  {
   "cell_type": "code",
   "execution_count": 72,
   "id": "eeaf2341",
   "metadata": {},
   "outputs": [
    {
     "name": "stdout",
     "output_type": "stream",
     "text": [
      "Cart Total : 1590\n",
      "Pay Amount : 954.0\n"
     ]
    }
   ],
   "source": [
    "total_amount = 100 + 90 + 400 + 1000\n",
    "print(f\"Cart Total : {total_amount}\")\n",
    "\n",
    "if total_amount > 1499:\n",
    "    price_after_discount = total_amount * 60/100\n",
    "    print(f\"Pay Amount : {price_after_discount}\")\n",
    "elif total_amount <= 1499 and total_amount >= 999:\n",
    "    price_after_discount = total_amount * 70/100\n",
    "    print(f\"Pay Amount : {price_after_discount}\")\n",
    "elif total_amount <= 999 and total_amount >= 499:\n",
    "    price_after_discount = total_amount * 80/100\n",
    "    print(f\"Pay Amount : {price_after_discount}\")\n",
    "else:\n",
    "    print(f\"Pay Amount : {total_amount}\")"
   ]
  },
  {
   "cell_type": "markdown",
   "id": "d29f4d50",
   "metadata": {},
   "source": [
    "# nested if else"
   ]
  },
  {
   "cell_type": "code",
   "execution_count": 73,
   "id": "e61686ee",
   "metadata": {},
   "outputs": [
    {
     "name": "stdout",
     "output_type": "stream",
     "text": [
      "Enter a Number: 55\n",
      "Its a Positive Number\n"
     ]
    }
   ],
   "source": [
    "value = float(input(f\"Enter a Number: \"))\n",
    "if value >=0:\n",
    "    if value == 0:\n",
    "        print(\"Its zero\")\n",
    "    else:\n",
    "        print(\"Its a Positive Number\")\n",
    "else:\n",
    "     print(\"Its a Negative Number\")"
   ]
  },
  {
   "cell_type": "code",
   "execution_count": 74,
   "id": "1ab55101",
   "metadata": {},
   "outputs": [
    {
     "name": "stdout",
     "output_type": "stream",
     "text": [
      "Enter a Number: 78\n",
      "Its a Positive Number\n"
     ]
    }
   ],
   "source": [
    "value = float(input(f\"Enter a Number: \"))\n",
    "if value >=0:\n",
    "    if value == 0:\n",
    "        print(\"Its zero\")\n",
    "    else:\n",
    "        print(\"Its a Positive Number\")\n",
    "else:\n",
    "     print(\"Its a Negative Number\")"
   ]
  },
  {
   "cell_type": "code",
   "execution_count": 75,
   "id": "7ad36605",
   "metadata": {},
   "outputs": [
    {
     "name": "stdout",
     "output_type": "stream",
     "text": [
      "Enter a Number: 33\n",
      "Its a Positive Number\n"
     ]
    }
   ],
   "source": [
    "value = float(input(f\"Enter a Number: \"))\n",
    "if value >=0:\n",
    "    if value == 0:\n",
    "        print(\"Its zero\")\n",
    "    else:\n",
    "        print(\"Its a Positive Number\")\n",
    "else:\n",
    "     print(\"Its a Negative Number\")"
   ]
  },
  {
   "cell_type": "markdown",
   "id": "3f96be98",
   "metadata": {},
   "source": [
    "# single line if else condition"
   ]
  },
  {
   "cell_type": "code",
   "execution_count": 76,
   "id": "a3d662c3",
   "metadata": {},
   "outputs": [
    {
     "name": "stdout",
     "output_type": "stream",
     "text": [
      "Enter a Number: 78\n",
      "NO\n"
     ]
    }
   ],
   "source": [
    "value = float(input(f\"Enter a Number: \"))\n",
    "if value > 99: print(\"Yes\")\n",
    "else: print(\"NO\")\n",
    "    "
   ]
  },
  {
   "cell_type": "code",
   "execution_count": 77,
   "id": "5085b074",
   "metadata": {},
   "outputs": [
    {
     "name": "stdout",
     "output_type": "stream",
     "text": [
      "Enter a Number: 100\n",
      "Yes\n"
     ]
    }
   ],
   "source": [
    "value = float(input(f\"Enter a Number: \"))\n",
    "if value > 99: print(\"Yes\")\n",
    "else: print(\"NO\")\n",
    "    "
   ]
  },
  {
   "cell_type": "markdown",
   "id": "e812bfef",
   "metadata": {},
   "source": [
    "# single line codes are not neat always go for different lines of code"
   ]
  },
  {
   "cell_type": "markdown",
   "id": "0f833028",
   "metadata": {},
   "source": [
    "# Loops 1. \n",
    "1. while loop \n",
    "2. For loop\n",
    "3. Loop control:\n",
    "    .break\n",
    "    .continue\n",
    "    .pass\n",
    "4 Nested loop\n"
   ]
  },
  {
   "cell_type": "code",
   "execution_count": 78,
   "id": "dff3f329",
   "metadata": {},
   "outputs": [
    {
     "name": "stdout",
     "output_type": "stream",
     "text": [
      "Your score is: 100 , cutoff : 400\n",
      "I will attemt next year\n",
      "Your score is: 200 , cutoff : 400\n",
      "I will attemt next year\n",
      "Your score is: 300 , cutoff : 400\n",
      "I will attemt next year\n",
      "Your score is: 399 , cutoff : 400\n",
      "I will attemt next year\n"
     ]
    }
   ],
   "source": [
    "total_marks = 1000\n",
    "cutoff = 400\n",
    "scores = [100, 200, 300, 399, 500]\n",
    "year= 0\n",
    "\n",
    "while scores[year]< cutoff:\n",
    "    print(f\"Your score is: {scores[year]} , cutoff : {cutoff}\")\n",
    "    print(f\"I will attemt next year\")\n",
    "    year = year+1\n",
    "    "
   ]
  },
  {
   "cell_type": "markdown",
   "id": "88ff0d36",
   "metadata": {},
   "source": [
    "# Infinete loop \n",
    "# if the condition is always true then your loop will keep on running \n",
    "# avoid such a condition"
   ]
  },
  {
   "cell_type": "code",
   "execution_count": 79,
   "id": "a43c4c57",
   "metadata": {},
   "outputs": [
    {
     "name": "stdout",
     "output_type": "stream",
     "text": [
      "current sum: 10\n",
      "current sum: 20\n",
      "current sum: 30\n",
      "current sum: 40\n",
      "current sum: 50\n"
     ]
    }
   ],
   "source": [
    "# kid is counting 10 rupee note\n",
    "\n",
    "notes = 5\n",
    "i=1 #1st note\n",
    "\n",
    "while i <= notes:\n",
    "    print(f\"current sum: {i*10}\")\n",
    "    i=i+1"
   ]
  },
  {
   "cell_type": "code",
   "execution_count": 80,
   "id": "b0bec7e3",
   "metadata": {},
   "outputs": [
    {
     "name": "stdout",
     "output_type": "stream",
     "text": [
      "current sum: 10\n",
      "current sum: 20\n",
      "current sum: 30\n",
      "current sum: 40\n",
      "current sum: 50\n",
      "current sum: 60\n",
      "current sum: 70\n",
      "current sum: 80\n",
      "current sum: 90\n",
      "current sum: 100\n"
     ]
    }
   ],
   "source": [
    "notes = 10\n",
    "i=1 #1st note\n",
    "\n",
    "while i <= notes:\n",
    "    print(f\"current sum: {i*10}\")\n",
    "    i=i+1"
   ]
  },
  {
   "cell_type": "code",
   "execution_count": 81,
   "id": "b0a94be9",
   "metadata": {},
   "outputs": [
    {
     "ename": "SyntaxError",
     "evalue": "invalid syntax (2433470079.py, line 3)",
     "output_type": "error",
     "traceback": [
      "\u001b[1;36m  Input \u001b[1;32mIn [81]\u001b[1;36m\u001b[0m\n\u001b[1;33m    current _station = 0\u001b[0m\n\u001b[1;37m            ^\u001b[0m\n\u001b[1;31mSyntaxError\u001b[0m\u001b[1;31m:\u001b[0m invalid syntax\n"
     ]
    }
   ],
   "source": [
    "station = [\"station01\", \"station02\", \"station03\", \"station04\"]\n",
    "\n",
    "current _station = 0\n",
    "destination_station = \"station03\"\n",
    "\n",
    "while station[current_station] != destination_station:\n",
    "    print(f\"current station is : {station[current_station]}\")\n",
    "    print(f\"My destination station: {destination_station}\")\n",
    "    print(f\"Continue the journey I haven't reached the station\")\n",
    "    current_station = current_station + 1\n",
    "    print(f\"Next station is: {station[current_station]}\")\n",
    "    print(\"----------\")\n",
    "    "
   ]
  },
  {
   "cell_type": "code",
   "execution_count": 82,
   "id": "42226635",
   "metadata": {},
   "outputs": [
    {
     "name": "stdout",
     "output_type": "stream",
     "text": [
      "current station is : station01\n",
      "My destination station: station03\n",
      "Continue the journey I haven't reached the station\n",
      "Next station is: station02\n",
      "----------\n",
      "current station is : station02\n",
      "My destination station: station03\n",
      "Continue the journey I haven't reached the station\n",
      "Next station is: station03\n",
      "----------\n",
      "I have arrived at: station03\n"
     ]
    }
   ],
   "source": [
    "station = [\"station01\", \"station02\", \"station03\", \"station04\"]\n",
    "\n",
    "current_station = 0\n",
    "destination_station = \"station03\"\n",
    "\n",
    "while station[current_station] != destination_station:\n",
    "    print(f\"current station is : {station[current_station]}\")\n",
    "    print(f\"My destination station: {destination_station}\")\n",
    "    print(f\"Continue the journey I haven't reached the station\")\n",
    "    current_station = current_station + 1\n",
    "    print(f\"Next station is: {station[current_station]}\")\n",
    "    print(\"----------\")\n",
    "else:\n",
    "    print(f\"I have arrived at: {station[current_station]}\" )"
   ]
  },
  {
   "cell_type": "code",
   "execution_count": 83,
   "id": "e171040d",
   "metadata": {},
   "outputs": [
    {
     "name": "stdout",
     "output_type": "stream",
     "text": [
      "Condition: True\n",
      "current sum: 10\n",
      "----------\n",
      "Condition: True\n",
      "current sum: 20\n",
      "----------\n",
      "Condition: True\n",
      "current sum: 30\n",
      "----------\n",
      "Condition: True\n",
      "current sum: 40\n",
      "----------\n",
      "Condition: True\n",
      "current sum: 50\n",
      "----------\n",
      "Condition: True\n",
      "current sum: 60\n",
      "----------\n",
      "Condition: True\n",
      "current sum: 70\n",
      "----------\n",
      "Condition: True\n",
      "current sum: 80\n",
      "----------\n",
      "Condition: True\n",
      "current sum: 90\n",
      "----------\n",
      "Condition: True\n",
      "current sum: 100\n",
      "----------\n",
      "Condition: False\n",
      "No more 10 rupees notes\n"
     ]
    }
   ],
   "source": [
    "notes = 10\n",
    "i=1 #1st note\n",
    "\n",
    "while i <= notes:\n",
    "    print(f\"Condition: {i <= notes}\" )\n",
    "    print(f\"current sum: {i*10}\")\n",
    "    i=i+1\n",
    "    print('----------')\n",
    "else:\n",
    "    print(f\"Condition: {i <= notes}\" )\n",
    "    print('No more 10 rupees notes')\n",
    "    "
   ]
  },
  {
   "cell_type": "markdown",
   "id": "6dab6780",
   "metadata": {},
   "source": [
    "# For loop"
   ]
  },
  {
   "cell_type": "code",
   "execution_count": 84,
   "id": "21c22b5b",
   "metadata": {},
   "outputs": [
    {
     "name": "stdout",
     "output_type": "stream",
     "text": [
      "10 x 0 = 0\n",
      "10 x 1 = 10\n",
      "10 x 2 = 20\n",
      "10 x 3 = 30\n",
      "10 x 4 = 40\n",
      "10 x 5 = 50\n",
      "10 x 6 = 60\n",
      "10 x 7 = 70\n",
      "10 x 8 = 80\n",
      "10 x 9 = 90\n"
     ]
    }
   ],
   "source": [
    "for i in range (0,10): #it is no not printing 10 times 10 as 10 here is out of bound\n",
    "    print(f\"10 x {i} = {10*i}\")\n"
   ]
  },
  {
   "cell_type": "code",
   "execution_count": 85,
   "id": "aa75175e",
   "metadata": {},
   "outputs": [
    {
     "name": "stdout",
     "output_type": "stream",
     "text": [
      "10 x 1 = 10\n",
      "10 x 2 = 20\n",
      "10 x 3 = 30\n",
      "10 x 4 = 40\n",
      "10 x 5 = 50\n",
      "10 x 6 = 60\n",
      "10 x 7 = 70\n",
      "10 x 8 = 80\n",
      "10 x 9 = 90\n",
      "10 x 10 = 100\n"
     ]
    }
   ],
   "source": [
    "for i in range (0,10): \n",
    "    print(f\"10 x {i+1} = {10*(i+1)}\")"
   ]
  },
  {
   "cell_type": "code",
   "execution_count": 86,
   "id": "9bc56377",
   "metadata": {},
   "outputs": [
    {
     "name": "stdout",
     "output_type": "stream",
     "text": [
      "10 x 0 = 0\n",
      "10 x 1 = 10\n",
      "10 x 2 = 20\n",
      "10 x 3 = 30\n",
      "10 x 4 = 40\n",
      "10 x 5 = 50\n",
      "10 x 6 = 60\n",
      "10 x 7 = 70\n",
      "10 x 8 = 80\n",
      "10 x 9 = 90\n",
      "10 x 10 = 100\n"
     ]
    }
   ],
   "source": [
    "for i in range (0,11): \n",
    "    print(f\"10 x {i} = {10*i}\")"
   ]
  },
  {
   "cell_type": "code",
   "execution_count": 88,
   "id": "574ec79c",
   "metadata": {},
   "outputs": [
    {
     "name": "stdout",
     "output_type": "stream",
     "text": [
      "0 = 0 + 100\n",
      "After adding total_sum = 100\n",
      "--------\n",
      "100 = 100 + 200\n",
      "After adding total_sum = 300\n",
      "--------\n",
      "300 = 300 + 129\n",
      "After adding total_sum = 429\n",
      "--------\n",
      "429 = 429 + 456\n",
      "After adding total_sum = 885\n",
      "--------\n",
      "Total amount to be paid : 885\n"
     ]
    }
   ],
   "source": [
    "cost_of_items = [100, 200, 129, 456]\n",
    "\n",
    "total_sum = 0 \n",
    "\n",
    "for i in range (0,4):\n",
    "    print(f\"{total_sum} = {total_sum} + {cost_of_items[i]}\")\n",
    "    total_sum = total_sum + cost_of_items[i]\n",
    "    print(f\"After adding total_sum = {total_sum}\")\n",
    "    print(\"--------\")\n",
    "print(f\"Total amount to be paid : {total_sum}\")\n",
    "          "
   ]
  },
  {
   "cell_type": "markdown",
   "id": "a423b7f3",
   "metadata": {},
   "source": [
    "# if you donot want to mention the range"
   ]
  },
  {
   "cell_type": "code",
   "execution_count": 89,
   "id": "291bce53",
   "metadata": {},
   "outputs": [
    {
     "name": "stdout",
     "output_type": "stream",
     "text": [
      "0 = 0 + 100\n",
      "After adding total_sum = 100\n",
      "--------\n",
      "100 = 100 + 200\n",
      "After adding total_sum = 300\n",
      "--------\n",
      "300 = 300 + 129\n",
      "After adding total_sum = 429\n",
      "--------\n",
      "429 = 429 + 456\n",
      "After adding total_sum = 885\n",
      "--------\n",
      "Total amount to be paid : 885\n"
     ]
    }
   ],
   "source": [
    "cost_of_items = [100, 200, 129, 456]\n",
    "\n",
    "total_sum = 0\n",
    "N= len(cost_of_items)\n",
    "\n",
    "for i in range (0,N):\n",
    "    print(f\"{total_sum} = {total_sum} + {cost_of_items[i]}\")\n",
    "    total_sum = total_sum + cost_of_items[i]\n",
    "    print(f\"After adding total_sum = {total_sum}\")\n",
    "    print(\"--------\")\n",
    "print(f\"Total amount to be paid : {total_sum}\")"
   ]
  },
  {
   "cell_type": "code",
   "execution_count": 90,
   "id": "e93f449f",
   "metadata": {},
   "outputs": [
    {
     "name": "stdout",
     "output_type": "stream",
     "text": [
      "0 = 0 + 100\n",
      "After adding total_sum = 100\n",
      "--------\n",
      "100 = 100 + 200\n",
      "After adding total_sum = 300\n",
      "--------\n",
      "300 = 300 + 129\n",
      "After adding total_sum = 429\n",
      "--------\n",
      "429 = 429 + 456\n",
      "After adding total_sum = 885\n",
      "--------\n",
      "885 = 885 + 1000\n",
      "After adding total_sum = 1885\n",
      "--------\n",
      "Total amount to be paid : 1885\n"
     ]
    }
   ],
   "source": [
    "cost_of_items = [100, 200, 129, 456, 1000]\n",
    "\n",
    "total_sum = 0\n",
    "N= len(cost_of_items)\n",
    "\n",
    "for i in range (0,N):\n",
    "    print(f\"{total_sum} = {total_sum} + {cost_of_items[i]}\")\n",
    "    total_sum = total_sum + cost_of_items[i]\n",
    "    print(f\"After adding total_sum = {total_sum}\")\n",
    "    print(\"--------\")\n",
    "print(f\"Total amount to be paid : {total_sum}\")"
   ]
  },
  {
   "cell_type": "markdown",
   "id": "eff7150d",
   "metadata": {},
   "source": [
    "# Another method"
   ]
  },
  {
   "cell_type": "code",
   "execution_count": 91,
   "id": "00b09318",
   "metadata": {},
   "outputs": [
    {
     "name": "stdout",
     "output_type": "stream",
     "text": [
      "0 = 0 + 100\n",
      "After adding total_sum = 100\n",
      "--------\n",
      "100 = 100 + 200\n",
      "After adding total_sum = 300\n",
      "--------\n",
      "300 = 300 + 129\n",
      "After adding total_sum = 429\n",
      "--------\n",
      "429 = 429 + 456\n",
      "After adding total_sum = 885\n",
      "--------\n",
      "885 = 885 + 1000\n",
      "After adding total_sum = 1885\n",
      "--------\n",
      "Total amount to be paid : 1885\n"
     ]
    }
   ],
   "source": [
    "cost_of_items = [100, 200, 129, 456, 1000]\n",
    "\n",
    "total_sum = 0\n",
    "\n",
    "for cost in cost_of_items:\n",
    "    print(f\"{total_sum} = {total_sum} + {cost}\")\n",
    "    total_sum = total_sum + cost\n",
    "    print(f\"After adding total_sum = {total_sum}\")\n",
    "    print(\"--------\")\n",
    "print(f\"Total amount to be paid : {total_sum}\")"
   ]
  },
  {
   "cell_type": "code",
   "execution_count": 92,
   "id": "a51d1205",
   "metadata": {},
   "outputs": [
    {
     "name": "stdout",
     "output_type": "stream",
     "text": [
      "Current station is: station01\n",
      "Current station is: station03\n",
      "Current station is: station04\n"
     ]
    }
   ],
   "source": [
    "station = [\"station01\", \"station02\", \"station03\", \"station04\"]\n",
    "\n",
    "current_station = 0\n",
    "destination_station = \"station03\"\n",
    "for current_station in station:\n",
    "    if current_station == \"station02\":\n",
    "        continue\n",
    "    print(f\"Current station is: {current_station}\")"
   ]
  },
  {
   "cell_type": "code",
   "execution_count": 93,
   "id": "7c5c0f79",
   "metadata": {},
   "outputs": [
    {
     "name": "stdout",
     "output_type": "stream",
     "text": [
      "Current station is: station01\n"
     ]
    }
   ],
   "source": [
    "station = [\"station01\", \"station02\", \"station03\", \"station04\"]\n",
    "\n",
    "current_station = 0\n",
    "destination_station = \"station03\"\n",
    "for current_station in station:\n",
    "    if current_station == \"station02\":\n",
    "        break\n",
    "    print(f\"Current station is: {current_station}\")"
   ]
  },
  {
   "cell_type": "code",
   "execution_count": 94,
   "id": "ce762fe0",
   "metadata": {},
   "outputs": [
    {
     "name": "stdout",
     "output_type": "stream",
     "text": [
      "1\n",
      "3\n",
      "5\n",
      "7\n",
      "9\n",
      "11\n",
      "13\n",
      "15\n",
      "17\n",
      "19\n"
     ]
    }
   ],
   "source": [
    "for i in range (1, 20):\n",
    "    if i%2==0:\n",
    "        continue\n",
    "    print(i)"
   ]
  },
  {
   "cell_type": "code",
   "execution_count": 95,
   "id": "c1e4fa42",
   "metadata": {},
   "outputs": [
    {
     "name": "stdout",
     "output_type": "stream",
     "text": [
      "2\n",
      "4\n",
      "6\n",
      "8\n",
      "10\n",
      "12\n",
      "14\n",
      "16\n",
      "18\n"
     ]
    }
   ],
   "source": [
    "for i in range (1, 20):\n",
    "    if i%2!=0:\n",
    "        continue\n",
    "    print(i)"
   ]
  },
  {
   "cell_type": "code",
   "execution_count": 96,
   "id": "3506b1ea",
   "metadata": {},
   "outputs": [
    {
     "name": "stdout",
     "output_type": "stream",
     "text": [
      "1\n",
      "2\n",
      "3\n",
      "4\n",
      "5\n",
      "6\n",
      "7\n",
      "8\n",
      "9\n",
      "10\n",
      "11\n",
      "12\n",
      "13\n",
      "14\n",
      "15\n",
      "16\n",
      "17\n",
      "18\n",
      "19\n",
      "20\n",
      "21\n",
      "22\n",
      "23\n",
      "24\n",
      "25\n",
      "26\n",
      "27\n",
      "28\n",
      "29\n",
      "30\n",
      "31\n",
      "32\n",
      "33\n",
      "34\n",
      "35\n",
      "36\n",
      "37\n",
      "38\n",
      "39\n",
      "40\n",
      "41\n",
      "42\n",
      "43\n",
      "44\n",
      "45\n",
      "46\n",
      "47\n",
      "48\n",
      "49\n",
      "50\n",
      "51\n"
     ]
    }
   ],
   "source": [
    "for i in range (1, 100):\n",
    "    print(i)\n",
    "    if i > 50:\n",
    "        break\n",
    "        \n",
    "    "
   ]
  },
  {
   "cell_type": "code",
   "execution_count": 97,
   "id": "9ade1bc2",
   "metadata": {},
   "outputs": [
    {
     "name": "stdout",
     "output_type": "stream",
     "text": [
      "1\n",
      "2\n",
      "3\n",
      "4\n",
      "5\n",
      "6\n",
      "7\n",
      "8\n",
      "9\n",
      "10\n",
      "11\n",
      "12\n",
      "13\n",
      "14\n",
      "15\n",
      "16\n",
      "17\n",
      "18\n",
      "19\n",
      "20\n",
      "21\n",
      "22\n",
      "23\n",
      "24\n",
      "25\n",
      "26\n",
      "27\n",
      "28\n",
      "29\n",
      "30\n",
      "31\n",
      "32\n",
      "33\n",
      "34\n",
      "35\n",
      "36\n",
      "37\n",
      "38\n",
      "39\n",
      "40\n",
      "41\n",
      "42\n",
      "43\n",
      "44\n",
      "45\n",
      "46\n",
      "47\n",
      "48\n",
      "49\n",
      "50\n"
     ]
    }
   ],
   "source": [
    "for i in range (1, 100):\n",
    "    if i > 50:\n",
    "        break\n",
    "    print(i)"
   ]
  },
  {
   "cell_type": "code",
   "execution_count": 98,
   "id": "45dddad0",
   "metadata": {},
   "outputs": [
    {
     "name": "stdout",
     "output_type": "stream",
     "text": [
      "The Number is in the range 80 to 100\n"
     ]
    }
   ],
   "source": [
    "num = 80\n",
    "\n",
    "if num > 100:\n",
    "    print(f\"The Number is Greater than 100\")\n",
    "elif num > 80 and num <= 100:\n",
    "    print(f\"The Number is in the range 80 to 100\")\n",
    "elif num > 60 and num <= 80:\n",
    "    print(f\"The Number is in the range 80 to 100\")\n",
    "elif num > 40 and num <= 60:\n",
    "    print(f\"The Number is in the range 80 to 100\")\n",
    "else:\n",
    "    print(f\"The Number is Less than 40\")"
   ]
  },
  {
   "cell_type": "code",
   "execution_count": 99,
   "id": "389d5160",
   "metadata": {},
   "outputs": [
    {
     "name": "stdout",
     "output_type": "stream",
     "text": [
      "The Number is in the range 80 to 100, Grade: C\n"
     ]
    }
   ],
   "source": [
    "num = 70\n",
    "\n",
    "if num > 100:\n",
    "    print(f\"The Number is Greater than 100, Grade: A\")\n",
    "elif num > 80 and num <= 100:\n",
    "    print(f\"The Number is in the range 80 to 100, Grade: B\")\n",
    "elif num > 60 and num <= 80:\n",
    "    print(f\"The Number is in the range 80 to 100, Grade: C\")\n",
    "elif num > 40 and num <= 60:\n",
    "    print(f\"The Number is in the range 80 to 100, Grade: D\")\n",
    "else:\n",
    "    print(f\"The Number is Less than 40\")"
   ]
  },
  {
   "cell_type": "markdown",
   "id": "a5a12f86",
   "metadata": {},
   "source": [
    "# LIST"
   ]
  },
  {
   "cell_type": "code",
   "execution_count": null,
   "id": "a86609fb",
   "metadata": {},
   "outputs": [],
   "source": [
    "list_of_item_to_purchase = list()\n",
    "\n",
    "N = int(input(\"No of item to be purchased: \"))\n",
    "for i in range (N):\n",
    "    user_input = input(\"Enter the item that you want to purchase: \")\n",
    "    list_of_item_to_purchase = list_of_item_to_purchase + [user_input]\n",
    "print(list_of_item_to_purchase)"
   ]
  },
  {
   "cell_type": "code",
   "execution_count": null,
   "id": "ab059236",
   "metadata": {},
   "outputs": [],
   "source": [
    "list_of_item_to_purchase = list()\n",
    "\n",
    "N = int(input(\"No of item to be purchased: \"))\n",
    "i = 0\n",
    "while i < N:\n",
    "    user_input = input(\"Enter the item that you want to purchase: \")\n",
    "    list_of_item_to_purchase = list_of_item_to_purchase + [user_input]\n",
    "    i = i+1\n",
    "print(list_of_item_to_purchase)"
   ]
  },
  {
   "cell_type": "code",
   "execution_count": null,
   "id": "0ef2e9dc",
   "metadata": {},
   "outputs": [],
   "source": [
    "list_of_item_to_purchase = [\"pen\", \"papper\", \"book\", \"marker\", \"glue\", \"scissors\" ]\n",
    "print(list_of_item_to_purchase)"
   ]
  },
  {
   "cell_type": "code",
   "execution_count": null,
   "id": "e35d0197",
   "metadata": {},
   "outputs": [],
   "source": [
    "new_item = input(\"Anything else to be added: \")\n",
    "\n",
    "if new_item in list_of_item_to_purchase:\n",
    "    print(\"YES\")\n",
    "else:\n",
    "    print(\"Adding item to the list\")\n",
    "    list_of_item_to_purchase = list_of_item_to_purchase +[new_item]\n"
   ]
  },
  {
   "cell_type": "code",
   "execution_count": null,
   "id": "28d50d5a",
   "metadata": {},
   "outputs": [],
   "source": [
    "list_of_item_to_purchase"
   ]
  },
  {
   "cell_type": "code",
   "execution_count": null,
   "id": "11071233",
   "metadata": {},
   "outputs": [],
   "source": [
    "new_item = input(\"Anything else to be added: \")\n",
    "\n",
    "if new_item not in list_of_item_to_purchase:\n",
    "    print(\"NO\")\n",
    "else:\n",
    "    print(\"Adding item to the list\")\n",
    "    list_of_item_to_purchase = list_of_item_to_purchase +[new_item]"
   ]
  },
  {
   "cell_type": "code",
   "execution_count": null,
   "id": "51184372",
   "metadata": {},
   "outputs": [],
   "source": [
    "list_of_item_to_purchase"
   ]
  },
  {
   "cell_type": "code",
   "execution_count": null,
   "id": "f566e77c",
   "metadata": {},
   "outputs": [],
   "source": [
    "new_item = input(\"Anything else to be added: \")\n",
    "\n",
    "if new_item not in list_of_item_to_purchase:\n",
    "    print(\"NO Adding item to the list\")\n",
    "    list_of_item_to_purchase = list_of_item_to_purchase +[new_item]\n",
    "    \n",
    "list_of_item_to_purchase "
   ]
  },
  {
   "cell_type": "markdown",
   "id": "99fd7a3f",
   "metadata": {},
   "source": [
    "# MAX & MIN"
   ]
  },
  {
   "cell_type": "code",
   "execution_count": null,
   "id": "41cfe2b0",
   "metadata": {},
   "outputs": [],
   "source": [
    "For_max = [1,99,38,9900,28,7]\n",
    "max(For_max)"
   ]
  },
  {
   "cell_type": "code",
   "execution_count": null,
   "id": "fed928b1",
   "metadata": {},
   "outputs": [],
   "source": [
    "For_min = [1,99,38,9900,28,7]\n",
    "min(For_min)"
   ]
  },
  {
   "cell_type": "code",
   "execution_count": null,
   "id": "b673fb39",
   "metadata": {},
   "outputs": [],
   "source": [
    "str_max = [\"A\",\"a\",\"b\",\"e\",\"d\"]\n",
    "max(str_max)"
   ]
  },
  {
   "cell_type": "code",
   "execution_count": null,
   "id": "a132b0c9",
   "metadata": {},
   "outputs": [],
   "source": [
    "str_min = [\"A\",\"a\",\"b\",\"e\",\"d\"]  ##to see the comparision look for ASCII code american standard code\n",
    "min(str_min)"
   ]
  },
  {
   "cell_type": "code",
   "execution_count": null,
   "id": "d4253fbb",
   "metadata": {},
   "outputs": [],
   "source": [
    "str_max = [\"A\",\"a\",\"b\",\"e\",\"d\", 6, 900, 67] ##string and integer cannot be compared together \n",
    "max(str_max)"
   ]
  },
  {
   "cell_type": "code",
   "execution_count": null,
   "id": "e99870af",
   "metadata": {},
   "outputs": [],
   "source": [
    "str_max = [1, 2.5, 6.8, 88, 90.65]\n",
    "max(str_max)"
   ]
  },
  {
   "cell_type": "code",
   "execution_count": null,
   "id": "76f8cf95",
   "metadata": {},
   "outputs": [],
   "source": [
    "For_min = [-1,99,38,99,28,-7]\n",
    "min(For_min)"
   ]
  },
  {
   "cell_type": "code",
   "execution_count": null,
   "id": "f392269a",
   "metadata": {},
   "outputs": [],
   "source": [
    "str_max = [1, 2*50, 6.8, 88, 90]\n",
    "max(str_max)"
   ]
  },
  {
   "cell_type": "code",
   "execution_count": null,
   "id": "568ff6f9",
   "metadata": {},
   "outputs": [],
   "source": [
    "str_var_max = [\"jyoti\",\"anchal\",\"dew\",\"zane\",\"aisha\"]\n",
    "max(str_var_max)  ###answer is zane as it starts with z "
   ]
  },
  {
   "cell_type": "code",
   "execution_count": null,
   "id": "10fe1d48",
   "metadata": {},
   "outputs": [],
   "source": [
    "str_var_max = [\"jyoti\",\"anchal\",\"dew\",\"zane\",\"zuric\"]\n",
    "max(str_var_max)  ###answer is zane as it starts with z and next value is u next higher in order"
   ]
  },
  {
   "cell_type": "code",
   "execution_count": null,
   "id": "93554a24",
   "metadata": {},
   "outputs": [],
   "source": [
    "str_example = [\"jyoti\",\"anchal\",\"dew\",\"zane\",\"aisha\"]\n",
    "print(str_example)"
   ]
  },
  {
   "cell_type": "code",
   "execution_count": null,
   "id": "05a447c1",
   "metadata": {},
   "outputs": [],
   "source": [
    "max_len = 0\n",
    "result = \"\"\n",
    "for example in str_example:\n",
    "    print(example , len(example))\n",
    "    if len(example) > max_len:\n",
    "        max_len = len(example)\n",
    "        result = example\n",
    "print(f\"Result: {max_len}, name: {result}\")"
   ]
  },
  {
   "cell_type": "markdown",
   "id": "f39855ae",
   "metadata": {},
   "source": [
    "# APPEND"
   ]
  },
  {
   "cell_type": "code",
   "execution_count": null,
   "id": "b74144e6",
   "metadata": {},
   "outputs": [],
   "source": [
    "A = [10,12,45,78]\n",
    "print(A)"
   ]
  },
  {
   "cell_type": "code",
   "execution_count": null,
   "id": "1a73e6b4",
   "metadata": {},
   "outputs": [],
   "source": [
    "A.append(\"python\")\n",
    "print(A)"
   ]
  },
  {
   "cell_type": "code",
   "execution_count": null,
   "id": "88952f80",
   "metadata": {},
   "outputs": [],
   "source": [
    "A= A + [\"jupiter\"]\n",
    "print(A)"
   ]
  },
  {
   "cell_type": "code",
   "execution_count": null,
   "id": "ef97eff0",
   "metadata": {},
   "outputs": [],
   "source": [
    "list_of_item_to_purchase = list()\n",
    "\n",
    "N = int(input(\"No of item to be purchased: \"))\n",
    "for i in range (N):\n",
    "    user_input = input(\"Enter the item that you want to purchase: \")\n",
    "    list_of_item_to_purchase.append(user_input)\n",
    "print(list_of_item_to_purchase)"
   ]
  },
  {
   "cell_type": "markdown",
   "id": "15b91acd",
   "metadata": {},
   "source": [
    "# POP"
   ]
  },
  {
   "cell_type": "code",
   "execution_count": null,
   "id": "6aa6849a",
   "metadata": {},
   "outputs": [],
   "source": [
    "A = [10,12,45,78]\n",
    "\n",
    "A.pop()"
   ]
  },
  {
   "cell_type": "code",
   "execution_count": null,
   "id": "f3eb46f6",
   "metadata": {},
   "outputs": [],
   "source": [
    "print(A)"
   ]
  },
  {
   "cell_type": "code",
   "execution_count": null,
   "id": "f63bb796",
   "metadata": {},
   "outputs": [],
   "source": [
    "A = [10,12,45,78]\n",
    "\n",
    "A.pop(0)\n",
    "print(A)"
   ]
  },
  {
   "cell_type": "code",
   "execution_count": null,
   "id": "a253dff9",
   "metadata": {},
   "outputs": [],
   "source": [
    "A = [1, 34, 56, 76, 99]\n",
    "\n",
    "for inx in range(len(A)):\n",
    "    num = A[inx]\n",
    "    print(inx , num)\n",
    "    if num % 2 != 0:\n",
    "        print(f\"odd num: {num} \")\n",
    "    else:\n",
    "        print(f\"even num: {num}\")"
   ]
  },
  {
   "cell_type": "code",
   "execution_count": null,
   "id": "41dd3f03",
   "metadata": {},
   "outputs": [],
   "source": [
    "A = [1, 34, 56, 76, 99]\n",
    "\n",
    "for inx in range(len(A)):\n",
    "    num = A[inx]\n",
    "    print(inx , num)\n",
    "    if num % 2 != 0:\n",
    "        print(f\"odd num: {num} \")\n",
    "    else:\n",
    "        print(f\"even num: {num}\")"
   ]
  },
  {
   "cell_type": "markdown",
   "id": "563fb549",
   "metadata": {},
   "source": [
    "# REVERSE ASC/DES"
   ]
  },
  {
   "cell_type": "code",
   "execution_count": null,
   "id": "38792d37",
   "metadata": {},
   "outputs": [],
   "source": [
    "A = [10, 88, 65, 56, 77]\n",
    "\n",
    "A.sort()"
   ]
  },
  {
   "cell_type": "code",
   "execution_count": null,
   "id": "408dd9a4",
   "metadata": {},
   "outputs": [],
   "source": [
    "print(A)"
   ]
  },
  {
   "cell_type": "code",
   "execution_count": null,
   "id": "c2423dc6",
   "metadata": {},
   "outputs": [],
   "source": [
    "sorted(A)"
   ]
  },
  {
   "cell_type": "code",
   "execution_count": null,
   "id": "ed28f44c",
   "metadata": {},
   "outputs": [],
   "source": [
    "A[::-1]"
   ]
  },
  {
   "cell_type": "code",
   "execution_count": null,
   "id": "fff80b8f",
   "metadata": {},
   "outputs": [],
   "source": [
    "A.reverse()"
   ]
  },
  {
   "cell_type": "code",
   "execution_count": null,
   "id": "33ca198d",
   "metadata": {},
   "outputs": [],
   "source": [
    "print(A)"
   ]
  },
  {
   "cell_type": "code",
   "execution_count": null,
   "id": "86b4fb21",
   "metadata": {},
   "outputs": [],
   "source": [
    "A = [10, 45, 77, 88, 3]\n",
    "\n",
    "A.reverse()"
   ]
  },
  {
   "cell_type": "code",
   "execution_count": null,
   "id": "b96d66a8",
   "metadata": {},
   "outputs": [],
   "source": [
    "print(A)"
   ]
  },
  {
   "cell_type": "markdown",
   "id": "cf72fd6d",
   "metadata": {},
   "source": [
    "# NESTING"
   ]
  },
  {
   "cell_type": "code",
   "execution_count": null,
   "id": "1fbdc173",
   "metadata": {},
   "outputs": [],
   "source": [
    "A = [[10, 14, 65], [77, 89, 12], [34, 89, 90]]\n",
    "print(A)"
   ]
  },
  {
   "cell_type": "code",
   "execution_count": null,
   "id": "60535e17",
   "metadata": {},
   "outputs": [],
   "source": [
    "A[0]"
   ]
  },
  {
   "cell_type": "code",
   "execution_count": null,
   "id": "67cd6fbf",
   "metadata": {},
   "outputs": [],
   "source": [
    "A[1]"
   ]
  },
  {
   "cell_type": "code",
   "execution_count": null,
   "id": "afcecf92",
   "metadata": {},
   "outputs": [],
   "source": [
    "A[1][1]"
   ]
  },
  {
   "cell_type": "code",
   "execution_count": null,
   "id": "539a836a",
   "metadata": {},
   "outputs": [],
   "source": [
    "A = [[10, 14, 65], [77, 89, 12, [500, 789]], [34, 89, 90]]"
   ]
  },
  {
   "cell_type": "code",
   "execution_count": null,
   "id": "114304d1",
   "metadata": {},
   "outputs": [],
   "source": [
    "A[1][1]"
   ]
  },
  {
   "cell_type": "code",
   "execution_count": null,
   "id": "1192e75c",
   "metadata": {},
   "outputs": [],
   "source": [
    "A[1]"
   ]
  },
  {
   "cell_type": "code",
   "execution_count": null,
   "id": "268f42e6",
   "metadata": {},
   "outputs": [],
   "source": [
    "A = [[10, 14, 65], [77, 89, 12, [500, 789]], [34, 89, 90]]\n",
    "print(A)"
   ]
  },
  {
   "cell_type": "code",
   "execution_count": null,
   "id": "846358f8",
   "metadata": {},
   "outputs": [],
   "source": [
    "A[1]"
   ]
  },
  {
   "cell_type": "code",
   "execution_count": null,
   "id": "310190fa",
   "metadata": {},
   "outputs": [],
   "source": [
    "A[1][3][0]"
   ]
  },
  {
   "cell_type": "code",
   "execution_count": null,
   "id": "1158bc45",
   "metadata": {},
   "outputs": [],
   "source": [
    "A =[[1, 2, 3], [11, 22, 33, [500, 502]], [45, [239, \"HII\"], 56, 77]]\n",
    "print(A)"
   ]
  },
  {
   "cell_type": "code",
   "execution_count": null,
   "id": "5c1b0d57",
   "metadata": {},
   "outputs": [],
   "source": [
    "A[2][1][0]"
   ]
  },
  {
   "cell_type": "code",
   "execution_count": null,
   "id": "d3e6d6f5",
   "metadata": {},
   "outputs": [],
   "source": [
    "A[2][1][1]"
   ]
  },
  {
   "cell_type": "code",
   "execution_count": null,
   "id": "3201c0a6",
   "metadata": {},
   "outputs": [],
   "source": [
    "A[-1][1][-1]"
   ]
  },
  {
   "cell_type": "code",
   "execution_count": null,
   "id": "92f19673",
   "metadata": {},
   "outputs": [],
   "source": [
    "amazon_cart = [[\"watch\", 5000],[\"phone\",10000],[\"laptop\", 50000]]\n",
    "\n",
    "print(amazon_cart)"
   ]
  },
  {
   "cell_type": "code",
   "execution_count": null,
   "id": "4c4787a2",
   "metadata": {},
   "outputs": [],
   "source": [
    "amazon_cart[0][1]"
   ]
  },
  {
   "cell_type": "code",
   "execution_count": null,
   "id": "d776784a",
   "metadata": {},
   "outputs": [],
   "source": [
    "amazon_cart[1][1]"
   ]
  },
  {
   "cell_type": "code",
   "execution_count": null,
   "id": "dd9a64f2",
   "metadata": {},
   "outputs": [],
   "source": [
    "amazon_cart[2][1]"
   ]
  },
  {
   "cell_type": "code",
   "execution_count": null,
   "id": "b52c9ade",
   "metadata": {},
   "outputs": [],
   "source": [
    "amazon_cart[0][1]+amazon_cart[1][1]+amazon_cart[2][1]"
   ]
  },
  {
   "cell_type": "code",
   "execution_count": null,
   "id": "78ecfa0f",
   "metadata": {},
   "outputs": [],
   "source": [
    "total_cost =0\n",
    "for i in range(len(amazon_cart)):\n",
    "    print(amazon_cart[i][1])\n",
    "    total_cost = total_cost + amazon_cart[i][1]\n",
    "    \n",
    "print(total_cost)"
   ]
  },
  {
   "cell_type": "code",
   "execution_count": null,
   "id": "c636c193",
   "metadata": {},
   "outputs": [],
   "source": [
    "total_cost =0\n",
    "for item in amazon_cart:\n",
    "    print(item[1])\n",
    "    total_cost = total_cost + item[1]\n",
    "    \n",
    "print(total_cost)"
   ]
  },
  {
   "cell_type": "code",
   "execution_count": null,
   "id": "606d5b3c",
   "metadata": {},
   "outputs": [],
   "source": [
    "total_cost =0\n",
    "print(f\"empty cart: {total_cost}\")\n",
    "\n",
    "for item in amazon_cart:\n",
    "    print(item[1])\n",
    "    total_cost = total_cost + item[1]\n",
    "    print(f\"cart after adding {item[0]} : {total_cost}\")\n",
    "    \n",
    "print(total_cost)"
   ]
  },
  {
   "cell_type": "markdown",
   "id": "2436f5d4",
   "metadata": {},
   "source": [
    "# List Comprehension"
   ]
  },
  {
   "cell_type": "markdown",
   "id": "b12b2e16",
   "metadata": {},
   "source": [
    "# list which contain list of square of no. between 1 to 10"
   ]
  },
  {
   "cell_type": "code",
   "execution_count": null,
   "id": "e885baf0",
   "metadata": {},
   "outputs": [],
   "source": [
    "A = [1, 2, 3, 4, 5, 6, 7, 8, 9, 10]\n",
    "print(A)"
   ]
  },
  {
   "cell_type": "code",
   "execution_count": null,
   "id": "a0bc72d4",
   "metadata": {},
   "outputs": [],
   "source": [
    "ans = list()\n",
    "\n",
    "for element in A:\n",
    "    print(element**2)\n",
    "    ans.append(element**2)\n",
    "print(ans)"
   ]
  },
  {
   "cell_type": "code",
   "execution_count": null,
   "id": "53833b96",
   "metadata": {},
   "outputs": [],
   "source": [
    "ans = [element**2 for element in A]\n",
    "\n",
    "print(ans)"
   ]
  },
  {
   "cell_type": "code",
   "execution_count": null,
   "id": "a3b82ed8",
   "metadata": {},
   "outputs": [],
   "source": [
    "A = [1, 2, 3, 4, 5, 6, 7, 8, 9, 10]\n",
    "\n",
    "ans = list()\n",
    "for element in A:\n",
    "    if element % 2 != 0:\n",
    "        print(element**2)\n",
    "        ans.append(element**2)\n",
    "    \n",
    "    "
   ]
  },
  {
   "cell_type": "code",
   "execution_count": null,
   "id": "9142c33a",
   "metadata": {},
   "outputs": [],
   "source": [
    "A = [1, 2, 3, 4, 5, 6, 7, 8, 9, 10]\n",
    "\n",
    "ans = list()\n",
    "for element in A:\n",
    "    if element % 2 != 0:\n",
    "        ans.append(element**2)\n",
    "print(ans)\n",
    "        "
   ]
  },
  {
   "cell_type": "code",
   "execution_count": null,
   "id": "dc3a48de",
   "metadata": {},
   "outputs": [],
   "source": [
    "A = [1, 2, 3, 4, 5, 6, 7, 8, 9, 10]\n",
    "\n",
    "ans = list()\n",
    "for element in A:\n",
    "    if element % 2 != 0:\n",
    "        print(element**2)\n",
    "        ans.append(element**2)\n",
    "print(ans)"
   ]
  },
  {
   "cell_type": "code",
   "execution_count": null,
   "id": "39753002",
   "metadata": {},
   "outputs": [],
   "source": [
    "ans = [element**2 for element in A if element %2 != 0]\n",
    "\n",
    "print(ans)"
   ]
  },
  {
   "cell_type": "code",
   "execution_count": null,
   "id": "f251de7a",
   "metadata": {},
   "outputs": [],
   "source": [
    "A = [1, 12, 12, 12, 5, 6, 7, ]\n",
    "\n",
    "print(A)"
   ]
  },
  {
   "cell_type": "code",
   "execution_count": null,
   "id": "d4d241af",
   "metadata": {},
   "outputs": [],
   "source": [
    "A.count(12)"
   ]
  },
  {
   "cell_type": "code",
   "execution_count": null,
   "id": "3b7f3a7a",
   "metadata": {},
   "outputs": [],
   "source": [
    "A.count(9999)"
   ]
  },
  {
   "cell_type": "code",
   "execution_count": null,
   "id": "e9405de8",
   "metadata": {},
   "outputs": [],
   "source": [
    "A = [1, 12, 12, [4, 5], [7, 7], [9, 9, 10]]\n",
    "print(A)"
   ]
  },
  {
   "cell_type": "code",
   "execution_count": null,
   "id": "5bfe9a9c",
   "metadata": {},
   "outputs": [],
   "source": [
    "A.count([2,7])"
   ]
  },
  {
   "cell_type": "code",
   "execution_count": null,
   "id": "bb95efd1",
   "metadata": {},
   "outputs": [],
   "source": [
    "A.count([7,7])"
   ]
  },
  {
   "cell_type": "code",
   "execution_count": null,
   "id": "1b51c640",
   "metadata": {},
   "outputs": [],
   "source": [
    "A = [1, 12, 12, 12, 5, 6, 7]\n",
    "for i in A:\n",
    "    print(i,A.count(i))"
   ]
  },
  {
   "cell_type": "code",
   "execution_count": null,
   "id": "a3dbd715",
   "metadata": {},
   "outputs": [],
   "source": [
    "A = \"JYOTI\"\n",
    "for i in A:\n",
    "    print(i)"
   ]
  },
  {
   "cell_type": "code",
   "execution_count": null,
   "id": "c9228f37",
   "metadata": {},
   "outputs": [],
   "source": [
    "A = \"ANCHAL\"\n",
    "for i in A:\n",
    "    print(i , A.count(i))"
   ]
  },
  {
   "cell_type": "code",
   "execution_count": null,
   "id": "985e60dc",
   "metadata": {},
   "outputs": [],
   "source": [
    "A = [\"ANCHAL\" , \"JYOTI\", \"ANCHAL\", \"SUNNY\", \"ANCHAL\"]\n",
    "for i in A:\n",
    "    print(i, A.count(i))"
   ]
  },
  {
   "cell_type": "markdown",
   "id": "38acb5ff",
   "metadata": {},
   "source": [
    "# EXTEND"
   ]
  },
  {
   "cell_type": "code",
   "execution_count": null,
   "id": "27e4eda1",
   "metadata": {},
   "outputs": [],
   "source": [
    "a = [1, 2, 3, 4]\n",
    "b = [2, 4, 6, 8]\n",
    "\n",
    "a+b\n"
   ]
  },
  {
   "cell_type": "code",
   "execution_count": null,
   "id": "8c6da2a2",
   "metadata": {},
   "outputs": [],
   "source": [
    "a = [1, 2, 3, 4]\n",
    "b = [2, 4, 6, 8]\n",
    "a.append(b)\n",
    "\n",
    "a"
   ]
  },
  {
   "cell_type": "code",
   "execution_count": null,
   "id": "d3740368",
   "metadata": {},
   "outputs": [],
   "source": [
    "a = [1, 2, 3, 4]\n",
    "b = [2, 4, 6, 8]\n",
    "a.extend(b)\n",
    "\n",
    "a"
   ]
  },
  {
   "cell_type": "code",
   "execution_count": null,
   "id": "608a1ac8",
   "metadata": {},
   "outputs": [],
   "source": [
    " "
   ]
  }
 ],
 "metadata": {
  "kernelspec": {
   "display_name": "Python 3 (ipykernel)",
   "language": "python",
   "name": "python3"
  },
  "language_info": {
   "codemirror_mode": {
    "name": "ipython",
    "version": 3
   },
   "file_extension": ".py",
   "mimetype": "text/x-python",
   "name": "python",
   "nbconvert_exporter": "python",
   "pygments_lexer": "ipython3",
   "version": "3.9.12"
  }
 },
 "nbformat": 4,
 "nbformat_minor": 5
}
