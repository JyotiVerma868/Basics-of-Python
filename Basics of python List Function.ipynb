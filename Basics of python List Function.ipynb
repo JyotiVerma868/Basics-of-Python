{
 "cells": [
  {
   "cell_type": "code",
   "execution_count": 1,
   "id": "c5909331",
   "metadata": {},
   "outputs": [],
   "source": [
    "## List"
   ]
  },
  {
   "cell_type": "code",
   "execution_count": 2,
   "id": "9d75a690",
   "metadata": {},
   "outputs": [],
   "source": [
    "L = [1,2,3,4,6,8]"
   ]
  },
  {
   "cell_type": "code",
   "execution_count": 3,
   "id": "f824330d",
   "metadata": {},
   "outputs": [
    {
     "data": {
      "text/plain": [
       "[1, 2, 3, 4, 6, 8]"
      ]
     },
     "execution_count": 3,
     "metadata": {},
     "output_type": "execute_result"
    }
   ],
   "source": [
    "L"
   ]
  },
  {
   "cell_type": "code",
   "execution_count": 4,
   "id": "975e57cb",
   "metadata": {},
   "outputs": [],
   "source": [
    "## Nesting of the list"
   ]
  },
  {
   "cell_type": "code",
   "execution_count": 5,
   "id": "1cab63a4",
   "metadata": {},
   "outputs": [],
   "source": [
    "A = [[1,2,3],[11,22,33],[45,56,77]]"
   ]
  },
  {
   "cell_type": "code",
   "execution_count": 7,
   "id": "c5f17658",
   "metadata": {},
   "outputs": [
    {
     "data": {
      "text/plain": [
       "[[1, 2, 3], [11, 22, 33], [45, 56, 77]]"
      ]
     },
     "execution_count": 7,
     "metadata": {},
     "output_type": "execute_result"
    }
   ],
   "source": [
    "A"
   ]
  },
  {
   "cell_type": "code",
   "execution_count": 8,
   "id": "1d574de6",
   "metadata": {},
   "outputs": [
    {
     "data": {
      "text/plain": [
       "[1, 2, 3]"
      ]
     },
     "execution_count": 8,
     "metadata": {},
     "output_type": "execute_result"
    }
   ],
   "source": [
    "A[0]"
   ]
  },
  {
   "cell_type": "code",
   "execution_count": 9,
   "id": "c7aeac4c",
   "metadata": {},
   "outputs": [
    {
     "data": {
      "text/plain": [
       "[11, 22, 33]"
      ]
     },
     "execution_count": 9,
     "metadata": {},
     "output_type": "execute_result"
    }
   ],
   "source": [
    "A[1]"
   ]
  },
  {
   "cell_type": "code",
   "execution_count": 10,
   "id": "fa0419d5",
   "metadata": {},
   "outputs": [
    {
     "data": {
      "text/plain": [
       "22"
      ]
     },
     "execution_count": 10,
     "metadata": {},
     "output_type": "execute_result"
    }
   ],
   "source": [
    "A[1][1]"
   ]
  },
  {
   "cell_type": "code",
   "execution_count": 11,
   "id": "c00ccf90",
   "metadata": {},
   "outputs": [
    {
     "data": {
      "text/plain": [
       "[[1, 2, 3], [11, 22, 33, [500, 502]], [45, 56, 77]]"
      ]
     },
     "execution_count": 11,
     "metadata": {},
     "output_type": "execute_result"
    }
   ],
   "source": [
    "A = [[1,2,3],[11,22,33,[500,502]],[45,56,77]]\n",
    "\n",
    "A"
   ]
  },
  {
   "cell_type": "code",
   "execution_count": 13,
   "id": "ef0df80d",
   "metadata": {},
   "outputs": [
    {
     "data": {
      "text/plain": [
       "[500, 502]"
      ]
     },
     "execution_count": 13,
     "metadata": {},
     "output_type": "execute_result"
    }
   ],
   "source": [
    "A[1][3]"
   ]
  },
  {
   "cell_type": "code",
   "execution_count": 12,
   "id": "12baf8a0",
   "metadata": {},
   "outputs": [
    {
     "data": {
      "text/plain": [
       "500"
      ]
     },
     "execution_count": 12,
     "metadata": {},
     "output_type": "execute_result"
    }
   ],
   "source": [
    "A[1][3][0]"
   ]
  },
  {
   "cell_type": "code",
   "execution_count": 18,
   "id": "1049807f",
   "metadata": {},
   "outputs": [],
   "source": [
    "A = [[1,2,3],[11,22,33,[500,502]],[45,[239,\"Hii\"],56,77]]\n",
    "\n"
   ]
  },
  {
   "cell_type": "code",
   "execution_count": 19,
   "id": "e6a2b922",
   "metadata": {},
   "outputs": [
    {
     "data": {
      "text/plain": [
       "[[1, 2, 3], [11, 22, 33, [500, 502]], [45, [239, 'Hii'], 56, 77]]"
      ]
     },
     "execution_count": 19,
     "metadata": {},
     "output_type": "execute_result"
    }
   ],
   "source": [
    "A"
   ]
  },
  {
   "cell_type": "code",
   "execution_count": 21,
   "id": "63d41755",
   "metadata": {},
   "outputs": [
    {
     "data": {
      "text/plain": [
       "[45, [239, 'Hii'], 56, 77]"
      ]
     },
     "execution_count": 21,
     "metadata": {},
     "output_type": "execute_result"
    }
   ],
   "source": [
    "A[2]"
   ]
  },
  {
   "cell_type": "code",
   "execution_count": 22,
   "id": "68d3c1c5",
   "metadata": {},
   "outputs": [
    {
     "data": {
      "text/plain": [
       "[239, 'Hii']"
      ]
     },
     "execution_count": 22,
     "metadata": {},
     "output_type": "execute_result"
    }
   ],
   "source": [
    "A[2][1]"
   ]
  },
  {
   "cell_type": "code",
   "execution_count": 20,
   "id": "88414029",
   "metadata": {},
   "outputs": [
    {
     "data": {
      "text/plain": [
       "'Hii'"
      ]
     },
     "execution_count": 20,
     "metadata": {},
     "output_type": "execute_result"
    }
   ],
   "source": [
    "A[2][1][1]"
   ]
  },
  {
   "cell_type": "code",
   "execution_count": 23,
   "id": "8400365e",
   "metadata": {},
   "outputs": [],
   "source": [
    "## by using negative indices"
   ]
  },
  {
   "cell_type": "code",
   "execution_count": 24,
   "id": "9b534dc5",
   "metadata": {},
   "outputs": [
    {
     "data": {
      "text/plain": [
       "'Hii'"
      ]
     },
     "execution_count": 24,
     "metadata": {},
     "output_type": "execute_result"
    }
   ],
   "source": [
    "A[-1][1][1]"
   ]
  },
  {
   "cell_type": "code",
   "execution_count": 25,
   "id": "6c722d92",
   "metadata": {},
   "outputs": [],
   "source": [
    "amazon_cart= [[\"watch\",5000],[\"phone\",10000],[\"laptop\",50000]]\n",
    "\n",
    "total_cost = 0"
   ]
  },
  {
   "cell_type": "code",
   "execution_count": 27,
   "id": "5a04761e",
   "metadata": {},
   "outputs": [
    {
     "data": {
      "text/plain": [
       "5000"
      ]
     },
     "execution_count": 27,
     "metadata": {},
     "output_type": "execute_result"
    }
   ],
   "source": [
    "amazon_cart[0][1]"
   ]
  },
  {
   "cell_type": "code",
   "execution_count": 28,
   "id": "50060696",
   "metadata": {},
   "outputs": [
    {
     "data": {
      "text/plain": [
       "10000"
      ]
     },
     "execution_count": 28,
     "metadata": {},
     "output_type": "execute_result"
    }
   ],
   "source": [
    "amazon_cart[1][1]"
   ]
  },
  {
   "cell_type": "code",
   "execution_count": 29,
   "id": "1eb141cb",
   "metadata": {},
   "outputs": [
    {
     "data": {
      "text/plain": [
       "50000"
      ]
     },
     "execution_count": 29,
     "metadata": {},
     "output_type": "execute_result"
    }
   ],
   "source": [
    "amazon_cart[2][1]"
   ]
  },
  {
   "cell_type": "code",
   "execution_count": 30,
   "id": "71dbbe6e",
   "metadata": {},
   "outputs": [
    {
     "data": {
      "text/plain": [
       "65000"
      ]
     },
     "execution_count": 30,
     "metadata": {},
     "output_type": "execute_result"
    }
   ],
   "source": [
    "amazon_cart[0][1]+amazon_cart[1][1]+amazon_cart[2][1]"
   ]
  },
  {
   "cell_type": "code",
   "execution_count": 31,
   "id": "a26c3b61",
   "metadata": {},
   "outputs": [],
   "source": [
    "##with for loop"
   ]
  },
  {
   "cell_type": "code",
   "execution_count": 33,
   "id": "4aff1b7e",
   "metadata": {},
   "outputs": [
    {
     "name": "stdout",
     "output_type": "stream",
     "text": [
      "5000\n",
      "10000\n",
      "50000\n",
      "65000\n"
     ]
    }
   ],
   "source": [
    "total_cost = 0\n",
    "for i in range(len(amazon_cart)):\n",
    "    print(amazon_cart[i][1])\n",
    "    total_cost = total_cost + amazon_cart[i][1]\n",
    "    \n",
    "print (total_cost)"
   ]
  },
  {
   "cell_type": "code",
   "execution_count": 36,
   "id": "3be2d48b",
   "metadata": {},
   "outputs": [
    {
     "name": "stdout",
     "output_type": "stream",
     "text": [
      "5000\n",
      "5000\n",
      "10000\n",
      "15000\n",
      "50000\n",
      "65000\n"
     ]
    }
   ],
   "source": [
    "total_cost = 0\n",
    "for item in amazon_cart:\n",
    "    print(item[1])\n",
    "    total_cost = total_cost + item[1]\n",
    "    print(total_cost)"
   ]
  },
  {
   "cell_type": "code",
   "execution_count": 38,
   "id": "aa87bda9",
   "metadata": {},
   "outputs": [
    {
     "name": "stdout",
     "output_type": "stream",
     "text": [
      "5000\n",
      "10000\n",
      "50000\n",
      "65000\n"
     ]
    }
   ],
   "source": [
    "total_cost = 0\n",
    "for item in amazon_cart:\n",
    "    print(item[1])\n",
    "    total_cost = total_cost + item[1]\n",
    "print(total_cost)"
   ]
  },
  {
   "cell_type": "code",
   "execution_count": 39,
   "id": "37da4722",
   "metadata": {},
   "outputs": [
    {
     "name": "stdout",
     "output_type": "stream",
     "text": [
      "empty cart: 0\n",
      "5000\n",
      "cart after adding watch: 5000\n",
      "10000\n",
      "cart after adding phone: 15000\n",
      "50000\n",
      "cart after adding laptop: 65000\n",
      "total payable amount:65000\n"
     ]
    }
   ],
   "source": [
    "total_cost = 0\n",
    "print(f\"empty cart: {total_cost}\")\n",
    "for item in amazon_cart:\n",
    "    print(item[1])\n",
    "    total_cost = total_cost + item[1]\n",
    "    print(f\"cart after adding {item[0]}: {total_cost}\")\n",
    "print(f\"total payable amount:{total_cost}\")"
   ]
  },
  {
   "cell_type": "code",
   "execution_count": 40,
   "id": "abe483dc",
   "metadata": {},
   "outputs": [],
   "source": [
    "## list comprehension"
   ]
  },
  {
   "cell_type": "code",
   "execution_count": 42,
   "id": "5f475bca",
   "metadata": {},
   "outputs": [
    {
     "data": {
      "text/plain": [
       "[1, 2, 3, 4, 5, 6, 7, 8, 9, 10]"
      ]
     },
     "execution_count": 42,
     "metadata": {},
     "output_type": "execute_result"
    }
   ],
   "source": [
    "A =[1,2,3,4,5,6,7,8,9,10]\n",
    "A"
   ]
  },
  {
   "cell_type": "code",
   "execution_count": 44,
   "id": "ee0022fb",
   "metadata": {},
   "outputs": [
    {
     "name": "stdout",
     "output_type": "stream",
     "text": [
      "1\n",
      "4\n",
      "9\n",
      "16\n",
      "25\n",
      "36\n",
      "49\n",
      "64\n",
      "81\n",
      "100\n"
     ]
    }
   ],
   "source": [
    "ans = list()\n",
    "\n",
    "for element in A:\n",
    "    print(element**2)"
   ]
  },
  {
   "cell_type": "code",
   "execution_count": 45,
   "id": "95109ec6",
   "metadata": {},
   "outputs": [],
   "source": [
    "ans.append(element**2)"
   ]
  },
  {
   "cell_type": "code",
   "execution_count": 46,
   "id": "aa12e4d8",
   "metadata": {},
   "outputs": [
    {
     "data": {
      "text/plain": [
       "[100]"
      ]
     },
     "execution_count": 46,
     "metadata": {},
     "output_type": "execute_result"
    }
   ],
   "source": [
    "ans"
   ]
  },
  {
   "cell_type": "code",
   "execution_count": 47,
   "id": "e4f05c04",
   "metadata": {},
   "outputs": [
    {
     "name": "stdout",
     "output_type": "stream",
     "text": [
      "1\n",
      "4\n",
      "9\n",
      "16\n",
      "25\n",
      "36\n",
      "49\n",
      "64\n",
      "81\n",
      "100\n",
      "[1, 4, 9, 16, 25, 36, 49, 64, 81, 100]\n"
     ]
    }
   ],
   "source": [
    "ans = list()\n",
    "\n",
    "for element in A:\n",
    "    print(element**2)\n",
    "    ans.append(element**2)\n",
    "print(ans)"
   ]
  },
  {
   "cell_type": "code",
   "execution_count": 48,
   "id": "fec5800c",
   "metadata": {},
   "outputs": [
    {
     "name": "stdout",
     "output_type": "stream",
     "text": [
      "[1, 4, 9, 16, 25, 36, 49, 64, 81, 100]\n"
     ]
    }
   ],
   "source": [
    "ans = [ele**2 for ele in A]\n",
    "\n",
    "print(ans)"
   ]
  },
  {
   "cell_type": "code",
   "execution_count": 49,
   "id": "a2a484e1",
   "metadata": {},
   "outputs": [],
   "source": [
    "## only take square root of odd numbers"
   ]
  },
  {
   "cell_type": "code",
   "execution_count": 51,
   "id": "30aa9d7e",
   "metadata": {},
   "outputs": [
    {
     "name": "stdout",
     "output_type": "stream",
     "text": [
      "1\n",
      "9\n",
      "25\n",
      "49\n",
      "81\n"
     ]
    },
    {
     "data": {
      "text/plain": [
       "[1, 9, 25, 49, 81]"
      ]
     },
     "execution_count": 51,
     "metadata": {},
     "output_type": "execute_result"
    }
   ],
   "source": [
    "ans= list()\n",
    " \n",
    "for element in A:\n",
    "    if element%2 != 0:\n",
    "        \n",
    "        print(element**2)\n",
    "        ans.append(element**2)\n",
    "ans"
   ]
  },
  {
   "cell_type": "code",
   "execution_count": 52,
   "id": "d80b540a",
   "metadata": {},
   "outputs": [
    {
     "name": "stdout",
     "output_type": "stream",
     "text": [
      "[1, 9, 25, 49, 81]\n"
     ]
    }
   ],
   "source": [
    "ans = [element**2 for element in A if element%2 != 0]\n",
    "\n",
    "print(ans)"
   ]
  },
  {
   "cell_type": "code",
   "execution_count": 55,
   "id": "6cfe49ef",
   "metadata": {},
   "outputs": [],
   "source": [
    "## count"
   ]
  },
  {
   "cell_type": "code",
   "execution_count": 56,
   "id": "a3d84a35",
   "metadata": {},
   "outputs": [],
   "source": [
    "A =[1,2,1,4,5,6,7,7,7]"
   ]
  },
  {
   "cell_type": "code",
   "execution_count": 57,
   "id": "1a5b8aa5",
   "metadata": {},
   "outputs": [
    {
     "data": {
      "text/plain": [
       "2"
      ]
     },
     "execution_count": 57,
     "metadata": {},
     "output_type": "execute_result"
    }
   ],
   "source": [
    "A.count(1)"
   ]
  },
  {
   "cell_type": "code",
   "execution_count": 58,
   "id": "8b4b1ffb",
   "metadata": {},
   "outputs": [
    {
     "data": {
      "text/plain": [
       "3"
      ]
     },
     "execution_count": 58,
     "metadata": {},
     "output_type": "execute_result"
    }
   ],
   "source": [
    "A.count(7)"
   ]
  },
  {
   "cell_type": "code",
   "execution_count": 59,
   "id": "9a3c67e2",
   "metadata": {},
   "outputs": [
    {
     "data": {
      "text/plain": [
       "0"
      ]
     },
     "execution_count": 59,
     "metadata": {},
     "output_type": "execute_result"
    }
   ],
   "source": [
    "A.count(99)"
   ]
  },
  {
   "cell_type": "code",
   "execution_count": 60,
   "id": "bb287ecd",
   "metadata": {},
   "outputs": [],
   "source": [
    "A =[1,2,1,4,5,6,[7,7],[7,7]]"
   ]
  },
  {
   "cell_type": "code",
   "execution_count": 61,
   "id": "fcc587f9",
   "metadata": {},
   "outputs": [
    {
     "data": {
      "text/plain": [
       "2"
      ]
     },
     "execution_count": 61,
     "metadata": {},
     "output_type": "execute_result"
    }
   ],
   "source": [
    "A.count([7,7])"
   ]
  },
  {
   "cell_type": "code",
   "execution_count": 62,
   "id": "a7d77bd3",
   "metadata": {},
   "outputs": [
    {
     "data": {
      "text/plain": [
       "0"
      ]
     },
     "execution_count": 62,
     "metadata": {},
     "output_type": "execute_result"
    }
   ],
   "source": [
    "A.count(7)"
   ]
  },
  {
   "cell_type": "code",
   "execution_count": 63,
   "id": "582034d1",
   "metadata": {},
   "outputs": [
    {
     "data": {
      "text/plain": [
       "2"
      ]
     },
     "execution_count": 63,
     "metadata": {},
     "output_type": "execute_result"
    }
   ],
   "source": [
    "A[-1].count(7)"
   ]
  },
  {
   "cell_type": "code",
   "execution_count": 64,
   "id": "d9730fe5",
   "metadata": {},
   "outputs": [
    {
     "name": "stdout",
     "output_type": "stream",
     "text": [
      "1 2\n",
      "2 1\n",
      "1 2\n",
      "4 1\n",
      "5 1\n",
      "6 1\n",
      "7 3\n",
      "7 3\n",
      "7 3\n"
     ]
    }
   ],
   "source": [
    "A =[1,2,1,4,5,6,7,7,7]\n",
    "for i in A:\n",
    "    print(i,A.count(i))"
   ]
  },
  {
   "cell_type": "code",
   "execution_count": 65,
   "id": "0a535e7d",
   "metadata": {},
   "outputs": [
    {
     "name": "stdout",
     "output_type": "stream",
     "text": [
      "s 1\n",
      "u 1\n",
      "n 2\n",
      "n 2\n",
      "y 1\n"
     ]
    }
   ],
   "source": [
    "A = \"sunny\"\n",
    "for i in A:\n",
    "    print(i, A.count(i))"
   ]
  },
  {
   "cell_type": "code",
   "execution_count": 66,
   "id": "7647f6e5",
   "metadata": {},
   "outputs": [
    {
     "name": "stdout",
     "output_type": "stream",
     "text": [
      "sunny 2\n",
      "sunny 2\n",
      "chandra 1\n"
     ]
    }
   ],
   "source": [
    "A = ['sunny','sunny','chandra']\n",
    "for i in A:\n",
    "    print (i, A.count(i))"
   ]
  },
  {
   "cell_type": "code",
   "execution_count": 67,
   "id": "bc6587f6",
   "metadata": {},
   "outputs": [
    {
     "name": "stdout",
     "output_type": "stream",
     "text": [
      "sunny 1\n",
      "SUNNY 1\n",
      "chandra 1\n"
     ]
    }
   ],
   "source": [
    "A = ['sunny','SUNNY','chandra']\n",
    "for i in A:\n",
    "    print (i, A.count(i))"
   ]
  },
  {
   "cell_type": "code",
   "execution_count": 68,
   "id": "36d92a85",
   "metadata": {},
   "outputs": [],
   "source": [
    "## Extend"
   ]
  },
  {
   "cell_type": "code",
   "execution_count": 69,
   "id": "5403d150",
   "metadata": {},
   "outputs": [
    {
     "data": {
      "text/plain": [
       "[1, 2, 3, 11, 22, 33]"
      ]
     },
     "execution_count": 69,
     "metadata": {},
     "output_type": "execute_result"
    }
   ],
   "source": [
    "A = [1,2,3]\n",
    "\n",
    "B = [11,22,33]\n",
    "\n",
    "A+B"
   ]
  },
  {
   "cell_type": "code",
   "execution_count": 78,
   "id": "26c3d38f",
   "metadata": {},
   "outputs": [],
   "source": [
    "A = [1,2,3]\n",
    "\n",
    "B = [11,22,33]\n",
    "\n",
    "A.extend(B)  ## extend is a permanent operation inplace operation"
   ]
  },
  {
   "cell_type": "code",
   "execution_count": 79,
   "id": "08564ad6",
   "metadata": {},
   "outputs": [
    {
     "data": {
      "text/plain": [
       "[1, 2, 3, 11, 22, 33]"
      ]
     },
     "execution_count": 79,
     "metadata": {},
     "output_type": "execute_result"
    }
   ],
   "source": [
    "A"
   ]
  },
  {
   "cell_type": "code",
   "execution_count": 80,
   "id": "ea207fd2",
   "metadata": {},
   "outputs": [],
   "source": [
    "A.append(B)  ## append is a permanent operation inplace operation"
   ]
  },
  {
   "cell_type": "code",
   "execution_count": 81,
   "id": "002a4180",
   "metadata": {},
   "outputs": [
    {
     "data": {
      "text/plain": [
       "[1, 2, 3, 11, 22, 33, [11, 22, 33]]"
      ]
     },
     "execution_count": 81,
     "metadata": {},
     "output_type": "execute_result"
    }
   ],
   "source": [
    "A"
   ]
  },
  {
   "cell_type": "code",
   "execution_count": 82,
   "id": "86e98b00",
   "metadata": {},
   "outputs": [],
   "source": [
    "## Index Method"
   ]
  },
  {
   "cell_type": "code",
   "execution_count": 83,
   "id": "91d1d18a",
   "metadata": {},
   "outputs": [],
   "source": [
    "A =[11,3,4,56,\"Sunny\", 1+2j]"
   ]
  },
  {
   "cell_type": "code",
   "execution_count": 85,
   "id": "42b60d28",
   "metadata": {},
   "outputs": [
    {
     "data": {
      "text/plain": [
       "[11, 3, 4, 56, 'Sunny', (1+2j)]"
      ]
     },
     "execution_count": 85,
     "metadata": {},
     "output_type": "execute_result"
    }
   ],
   "source": [
    "A"
   ]
  },
  {
   "cell_type": "code",
   "execution_count": 86,
   "id": "95de5e59",
   "metadata": {},
   "outputs": [
    {
     "data": {
      "text/plain": [
       "0"
      ]
     },
     "execution_count": 86,
     "metadata": {},
     "output_type": "execute_result"
    }
   ],
   "source": [
    "A.index(11)"
   ]
  },
  {
   "cell_type": "code",
   "execution_count": 87,
   "id": "a63f3845",
   "metadata": {},
   "outputs": [
    {
     "data": {
      "text/plain": [
       "4"
      ]
     },
     "execution_count": 87,
     "metadata": {},
     "output_type": "execute_result"
    }
   ],
   "source": [
    "A.index(\"Sunny\")"
   ]
  },
  {
   "cell_type": "code",
   "execution_count": 89,
   "id": "ac0f0c01",
   "metadata": {},
   "outputs": [],
   "source": [
    "## print the index of all the complex number\n",
    "# do a for loop\n",
    "# if condition for type check\n",
    "#if type is complex then print the index"
   ]
  },
  {
   "cell_type": "code",
   "execution_count": 91,
   "id": "df23079a",
   "metadata": {},
   "outputs": [
    {
     "name": "stdout",
     "output_type": "stream",
     "text": [
      "element : 11| <class 'int'>| Index: 0\n",
      "element : 3| <class 'int'>| Index: 1\n",
      "element : 4| <class 'int'>| Index: 2\n",
      "element : 56| <class 'int'>| Index: 3\n",
      "element : Sunny| <class 'str'>| Index: 4\n",
      "element : (1+2j)| <class 'complex'>| Index: 5\n"
     ]
    }
   ],
   "source": [
    "for element in A:\n",
    "    print (f\"element : {element}| {type(element)}| Index: {A.index(element)}\")"
   ]
  },
  {
   "cell_type": "code",
   "execution_count": 92,
   "id": "042869f8",
   "metadata": {},
   "outputs": [
    {
     "name": "stdout",
     "output_type": "stream",
     "text": [
      "element : (1+2j)| <class 'complex'>| Index: 5\n"
     ]
    }
   ],
   "source": [
    "for element in A:\n",
    "    if type(element) == complex:\n",
    "        \n",
    "        print (f\"element : {element}| {type(element)}| Index: {A.index(element)}\")"
   ]
  },
  {
   "cell_type": "code",
   "execution_count": 93,
   "id": "6463770c",
   "metadata": {},
   "outputs": [
    {
     "name": "stdout",
     "output_type": "stream",
     "text": [
      "element : Sunny| <class 'str'>| Index: 4\n"
     ]
    }
   ],
   "source": [
    "for element in A:\n",
    "    if type(element) == str:\n",
    "        \n",
    "        print (f\"element : {element}| {type(element)}| Index: {A.index(element)}\")"
   ]
  },
  {
   "cell_type": "code",
   "execution_count": 94,
   "id": "52e6e94b",
   "metadata": {},
   "outputs": [
    {
     "name": "stdout",
     "output_type": "stream",
     "text": [
      "element : 11| <class 'int'>| Index: 0\n",
      "element : 3| <class 'int'>| Index: 1\n",
      "element : 4| <class 'int'>| Index: 2\n",
      "element : 56| <class 'int'>| Index: 3\n"
     ]
    }
   ],
   "source": [
    "for element in A:\n",
    "    if type(element) == int:\n",
    "        \n",
    "        print (f\"element : {element}| {type(element)}| Index: {A.index(element)}\")"
   ]
  },
  {
   "cell_type": "code",
   "execution_count": 95,
   "id": "05a3888b",
   "metadata": {},
   "outputs": [],
   "source": [
    "#isinstance "
   ]
  },
  {
   "cell_type": "code",
   "execution_count": 98,
   "id": "56ed9fbd",
   "metadata": {},
   "outputs": [
    {
     "name": "stdout",
     "output_type": "stream",
     "text": [
      "element : (1+2j)| <class 'complex'>| Index: 5\n"
     ]
    }
   ],
   "source": [
    "for element in A:\n",
    "    ##if type(element) == complex\n",
    "    if isinstance(element,complex):\n",
    "         print (f\"element : {element}| {type(element)}| Index: {A.index(element)}\")\n",
    "        \n",
    "        \n",
    "       "
   ]
  },
  {
   "cell_type": "code",
   "execution_count": 99,
   "id": "3b0e1192",
   "metadata": {},
   "outputs": [],
   "source": [
    "## print the index all the complex and int also"
   ]
  },
  {
   "cell_type": "code",
   "execution_count": 100,
   "id": "b06aa2d7",
   "metadata": {},
   "outputs": [
    {
     "name": "stdout",
     "output_type": "stream",
     "text": [
      "element : 11| <class 'int'>| Index: 0\n",
      "element : 3| <class 'int'>| Index: 1\n",
      "element : 4| <class 'int'>| Index: 2\n",
      "element : 56| <class 'int'>| Index: 3\n",
      "element : (1+2j)| <class 'complex'>| Index: 5\n"
     ]
    }
   ],
   "source": [
    "for element in A:\n",
    "    ##if type(element) == complex\n",
    "    if isinstance(element,complex) or isinstance(element,int)  :\n",
    "         print (f\"element : {element}| {type(element)}| Index: {A.index(element)}\")\n",
    "        \n",
    "        \n",
    "       "
   ]
  },
  {
   "cell_type": "code",
   "execution_count": 102,
   "id": "b15507f2",
   "metadata": {},
   "outputs": [
    {
     "name": "stdout",
     "output_type": "stream",
     "text": [
      "element : 11| <class 'int'>| Index: 0\n",
      "element : 3| <class 'int'>| Index: 1\n",
      "element : 4| <class 'int'>| Index: 2\n",
      "element : 56| <class 'int'>| Index: 3\n",
      "element : (1+2j)| <class 'complex'>| Index: 5\n"
     ]
    }
   ],
   "source": [
    "for element in A:\n",
    "    ##if type(element) == complex\n",
    "    if isinstance(element,(complex,int)):\n",
    "         print (f\"element : {element}| {type(element)}| Index: {A.index(element)}\")\n",
    "        \n",
    "        "
   ]
  },
  {
   "cell_type": "code",
   "execution_count": 103,
   "id": "9d34c175",
   "metadata": {},
   "outputs": [],
   "source": [
    "for element in A:\n",
    "    ##if type(element) == complex\n",
    "    if isinstance(element,complex) and isinstance(element,int)  :\n",
    "         print (f\"element : {element}| {type(element)}| Index: {A.index(element)}\")\n",
    "        \n",
    "        "
   ]
  },
  {
   "cell_type": "code",
   "execution_count": 104,
   "id": "1d693bff",
   "metadata": {},
   "outputs": [],
   "source": [
    "## there is no and condition because there will be no two variable together"
   ]
  },
  {
   "cell_type": "code",
   "execution_count": 107,
   "id": "731b4e63",
   "metadata": {},
   "outputs": [
    {
     "data": {
      "text/plain": [
       "[11, 3, 4, 56, (1+2j)]"
      ]
     },
     "execution_count": 107,
     "metadata": {},
     "output_type": "execute_result"
    }
   ],
   "source": [
    "ans = [element for element in A if isinstance(element,(complex,int))]\n",
    "\n",
    "ans                                                 "
   ]
  },
  {
   "cell_type": "code",
   "execution_count": 110,
   "id": "853ae4b4",
   "metadata": {},
   "outputs": [
    {
     "data": {
      "text/plain": [
       "[11, 3, 4, (56+2j), 'Sunny', (1+2j), 3, 3, 3]"
      ]
     },
     "execution_count": 110,
     "metadata": {},
     "output_type": "execute_result"
    }
   ],
   "source": [
    "A = [11, 3, 4, 56+2j, \"Sunny\", (1+2j),3,3,3,]\n",
    "A"
   ]
  },
  {
   "cell_type": "code",
   "execution_count": 111,
   "id": "1c7f56a0",
   "metadata": {},
   "outputs": [
    {
     "data": {
      "text/plain": [
       "1"
      ]
     },
     "execution_count": 111,
     "metadata": {},
     "output_type": "execute_result"
    }
   ],
   "source": [
    "A.index(3)"
   ]
  },
  {
   "cell_type": "code",
   "execution_count": 112,
   "id": "7f78b22d",
   "metadata": {},
   "outputs": [],
   "source": [
    "## indexing will give you the first value index in the list "
   ]
  },
  {
   "cell_type": "code",
   "execution_count": 113,
   "id": "6243695b",
   "metadata": {},
   "outputs": [],
   "source": [
    "## Insert"
   ]
  },
  {
   "cell_type": "code",
   "execution_count": 115,
   "id": "436e9c3b",
   "metadata": {},
   "outputs": [
    {
     "data": {
      "text/plain": [
       "[1, 3, 4, 56, 7, 8, 9]"
      ]
     },
     "execution_count": 115,
     "metadata": {},
     "output_type": "execute_result"
    }
   ],
   "source": [
    "A = [1,3,4,56,7,8,9]\n",
    "A"
   ]
  },
  {
   "cell_type": "code",
   "execution_count": 117,
   "id": "e3d652ff",
   "metadata": {},
   "outputs": [
    {
     "data": {
      "text/plain": [
       "[1, 3, [2, 5, 8, 90, 88], 4, 56, 7, 8, 9]"
      ]
     },
     "execution_count": 117,
     "metadata": {},
     "output_type": "execute_result"
    }
   ],
   "source": [
    "A.insert(2,[2,5,8,90,88])\n",
    "\n",
    "A"
   ]
  },
  {
   "cell_type": "code",
   "execution_count": 118,
   "id": "d7413ecd",
   "metadata": {},
   "outputs": [],
   "source": [
    "## Remove"
   ]
  },
  {
   "cell_type": "code",
   "execution_count": 119,
   "id": "5fa8bb6c",
   "metadata": {},
   "outputs": [
    {
     "data": {
      "text/plain": [
       "[1, 3, 4, 56, 7, 8, 9]"
      ]
     },
     "execution_count": 119,
     "metadata": {},
     "output_type": "execute_result"
    }
   ],
   "source": [
    "A = [1,3,4,56,7,8,9]\n",
    "A"
   ]
  },
  {
   "cell_type": "code",
   "execution_count": 120,
   "id": "a72518a8",
   "metadata": {},
   "outputs": [
    {
     "data": {
      "text/plain": [
       "[1, 3, 4, 7, 8, 9]"
      ]
     },
     "execution_count": 120,
     "metadata": {},
     "output_type": "execute_result"
    }
   ],
   "source": [
    "A.remove(56)\n",
    "A"
   ]
  },
  {
   "cell_type": "code",
   "execution_count": 121,
   "id": "2b2b6529",
   "metadata": {},
   "outputs": [
    {
     "data": {
      "text/plain": [
       "[1, 1, 1, 3, 4, 56, 7, 8, 9]"
      ]
     },
     "execution_count": 121,
     "metadata": {},
     "output_type": "execute_result"
    }
   ],
   "source": [
    "A = [1,1,1,3,4,56,7,8,9]\n",
    "A\n"
   ]
  },
  {
   "cell_type": "code",
   "execution_count": 123,
   "id": "4962bc12",
   "metadata": {},
   "outputs": [
    {
     "data": {
      "text/plain": [
       "[1, 3, 4, 56, 7, 8, 9]"
      ]
     },
     "execution_count": 123,
     "metadata": {},
     "output_type": "execute_result"
    }
   ],
   "source": [
    "A.remove(1)\n",
    "A"
   ]
  },
  {
   "cell_type": "code",
   "execution_count": 124,
   "id": "a3d09e70",
   "metadata": {},
   "outputs": [],
   "source": [
    "## in remove only first occurance of the element will be removed"
   ]
  },
  {
   "cell_type": "code",
   "execution_count": 125,
   "id": "527765cb",
   "metadata": {},
   "outputs": [],
   "source": [
    "## POP"
   ]
  },
  {
   "cell_type": "code",
   "execution_count": 126,
   "id": "7ccbe2a8",
   "metadata": {},
   "outputs": [
    {
     "data": {
      "text/plain": [
       "[1, 1, 1, 3, 4, 56, 7, 8, 9]"
      ]
     },
     "execution_count": 126,
     "metadata": {},
     "output_type": "execute_result"
    }
   ],
   "source": [
    "A = [1,1,1,3,4,56,7,8,9]\n",
    "A\n"
   ]
  },
  {
   "cell_type": "code",
   "execution_count": 128,
   "id": "6361faf6",
   "metadata": {},
   "outputs": [
    {
     "data": {
      "text/plain": [
       "9"
      ]
     },
     "execution_count": 128,
     "metadata": {},
     "output_type": "execute_result"
    }
   ],
   "source": [
    "A.pop()"
   ]
  },
  {
   "cell_type": "code",
   "execution_count": 131,
   "id": "c7578bec",
   "metadata": {},
   "outputs": [
    {
     "name": "stdout",
     "output_type": "stream",
     "text": [
      "[1, 3, 4, 56, 7, 8]\n"
     ]
    }
   ],
   "source": [
    "new_list=[]\n",
    "\n",
    "[new_list.append (item) for item in A if item not in new_list]\n",
    "\n",
    "print(new_list)\n"
   ]
  },
  {
   "cell_type": "code",
   "execution_count": null,
   "id": "0a22d701",
   "metadata": {},
   "outputs": [],
   "source": []
  }
 ],
 "metadata": {
  "kernelspec": {
   "display_name": "Python 3 (ipykernel)",
   "language": "python",
   "name": "python3"
  },
  "language_info": {
   "codemirror_mode": {
    "name": "ipython",
    "version": 3
   },
   "file_extension": ".py",
   "mimetype": "text/x-python",
   "name": "python",
   "nbconvert_exporter": "python",
   "pygments_lexer": "ipython3",
   "version": "3.9.12"
  }
 },
 "nbformat": 4,
 "nbformat_minor": 5
}
